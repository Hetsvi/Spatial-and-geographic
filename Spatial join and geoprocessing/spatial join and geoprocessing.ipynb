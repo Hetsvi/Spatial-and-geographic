{
 "cells": [
  {
   "cell_type": "markdown",
   "metadata": {},
   "source": [
    "Team member names: Hetsvi Navnitlal and Emily Kwan "
   ]
  },
  {
   "cell_type": "markdown",
   "metadata": {},
   "source": [
    "Advanced Geopandas: spatial join and geoprocessing"
   ]
  },
  {
   "cell_type": "code",
   "execution_count": null,
   "metadata": {},
   "outputs": [],
   "source": [
    "%matplotlib inline \n",
    "import geopandas as gpd\n",
    "import pandas as pd\n",
    "\n",
    "# add packages as needed\n",
    "\n",
    "import os\n",
    "current_dir = os.getcwd()\n",
    "print(current_dir)"
   ]
  },
  {
   "cell_type": "markdown",
   "metadata": {},
   "source": [
    "this will be a function to return geometric characteristics and neighbors of any polygon in an input dataframe (input_gdf) with a given name (poly_name) in a specific column (poly_name_field)."
   ]
  },
  {
   "cell_type": "code",
   "execution_count": null,
   "metadata": {},
   "outputs": [],
   "source": [
    "shpFileIn = '../CA_Counties_TIGER2016.shp'\n",
    "sd_parks = gpd.read_file(shpFileIn)\n",
    "sd_parks.info"
   ]
  },
  {
   "cell_type": "code",
   "execution_count": null,
   "metadata": {},
   "outputs": [],
   "source": [
    "def poly_geometry(input_gdf, poly_name_field,poly_name):\n",
    "    cols = ['NAME', 'ALAND', 'geometry']\n",
    "    sub_regions = input_gdf[cols].dissolve(by='NAME', aggfunc = 'sum', as_index=False)\n",
    "    #print(\"sub_region\", sub_regions, \"sub_region\")\n",
    "    crs = sub_regions.crs\n",
    "    #print(crs)\n",
    "    sd = sub_regions.loc[sub_regions[poly_name_field] == poly_name]\n",
    "    #print(sd)\n",
    "    poly_coords = sd['geometry']\n",
    "    #print(\"poly_coord\", poly_coords, \"poly_coord\")\n",
    "    area = sd.area/(2590000) #sd.ALAND*(0.0015625)\n",
    "    #print(area)\n",
    "    bounding_box = sd.geometry.bounds\n",
    "    #print(bounding_box)\n",
    "    #neighbors = sub_regions[sub_regions.touches(sd.geometry)].NAME.tolist()\n",
    "    sub_regions[\"NEIGHBOURS\"] = None\n",
    "    for i, rows in sub_regions.iterrows():\n",
    "        neighbors = sub_regions[~sub_regions.disjoint(rows.geometry)].NAME.tolist()\n",
    "        neighbors = [j for j in neighbors if rows.NAME != j]\n",
    "        sub_regions.at[i, \"NEIGHBOURS\"] = \", \".join(neighbors)\n",
    "        \n",
    "    neighours = sub_regions.loc[sub_regions[\"NAME\"] == poly_name][\"NEIGHBOURS\"].tolist()\n",
    "    neighours =neighours[0].split(\", \")\n",
    "    return crs, poly_coords, area, bounding_box, neighours "
   ]
  },
  {
   "cell_type": "code",
   "execution_count": null,
   "metadata": {},
   "outputs": [],
   "source": [
    "# running the function\n",
    "\n",
    "input_gdf = gpd.read_file('../CA_Counties_TIGER2016.shp')\n",
    "poly_name_field = 'NAME'  # or whatever is in the file\n",
    "poly_name = 'San Diego' # or whatever is in the file\n",
    "\n",
    "crs,poly_coords,area,bbox,neighbors = poly_geometry(input_gdf, poly_name_field, poly_name)\n",
    "\n",
    "print(crs)\n",
    "print(poly_coords)\n",
    "print(area)\n",
    "print(bbox)\n",
    "print(neighbors)"
   ]
  },
  {
   "cell_type": "markdown",
   "metadata": {},
   "source": [
    "dataset description:\n",
    "The title of this dataset is CA County Boundries. The URL for this is https://data.ca.gov/dataset/ca-geographic-boundaries/resource/091ff50d-bb24-4537-a974-2ce89c6e8663. This dataset has the county boundries for CA state from the USA census bureau's 2016 MAF/TIGER database. This data set has 58 records (0-57 index). The coordinate reference system is polygons which is {'init': 'epsg:3857'}. According to the metadata we can tell that it was compiled from the data thats US Census Bureau collectes as a part of the Master Address File. The unit consistency of the area of the data and combining similar areas into which fall under one name etc. are some of the data quality considerations which we had to take care of."
   ]
  },
  {
   "cell_type": "markdown",
   "metadata": {},
   "source": [
    "## food desert\n",
    "Food choices in low and medium income (LMI) neighborhoods are limited, as these areas lack healthy food stores or other fresh food delivery mechanisms. There may be more fast food stores than fresh produce shops. Population is relatively poor, and filling the food basket with healthy options hasn't been an overwhelming priority for many households. Such areas are referred to as \"food deserts\".\n",
    "See these articles:\n",
    "https://www.sandiegouniontribune.com/news/data-watch/sdut-san-diego-food-deserts-2016may15-htmlstory.html (see food desert definitions here)\n",
    "https://www.npr.org/sections/thesalt/2013/03/13/174112591/how-to-find-a-food-desert-near-you\n",
    "\n",
    "We'll analyze the current state of food deserts, using lists of businesses that operate in San Diego, and social-demographic data from SanDAG (by census tracts).\n",
    "For the list of businesses, let's use City of San Diego tax certificates: https://data.sandiego.gov/datasets/business-listings/. \n",
    "There is also \"SanDAG's point locations of business sites\" in San Diego County (see metadata at http://rdw.sandag.org/Account/GetFSFile.aspx?dir=Business&Name=BUSINESS_SITES.pdf). \n",
    "We'll also get relevant spatial data layers from SanDAG: Promise Zone, and census tract boundaries."
   ]
  },
  {
   "cell_type": "markdown",
   "metadata": {},
   "source": [
    "dataset descriptions:\n",
    "promise: contains geo information for the San Diego Promise Zone that spans the city's most disadvantaded and underserved communites.\n",
    "census: contains the polygons representing the 2010 US Census Bureau census tracts for San Diego county\n",
    "juris: contains the different municipal jurisdictions for parcels, roads, addresses in San DIego.\n",
    "business: contains locations of business sites in San Diego County\n",
    "social: contains social-demographic data by census tracts."
   ]
  },
  {
   "cell_type": "code",
   "execution_count": null,
   "metadata": {},
   "outputs": [],
   "source": [
    "#1 Download the data \n",
    "promise = gpd.read_file('../Promise_Zone_SD.shp')\n",
    "census = gpd.read_file('../CENSUS_TRACTS_2010.shp')\n",
    "juris = gpd.read_file('../MUNICIPAL_BOUNDARIES.shp')\n",
    "business = gpd.read_file('sd_businesses_active_since08_datasd.csv')\n",
    "socio = gpd.read_file('socio-demographic.csv')\n",
    "socio['TRACT'] = (socio['TRACT']).astype(float)\n",
    "socio = socio.drop(['geometry'], axis = 1)\n",
    "#print(type(socio['TRACT'][0]))\n",
    "socio_census = census.merge(socio, how='outer', on='TRACT')\n",
    "census\n",
    "socio"
   ]
  },
  {
   "cell_type": "code",
   "execution_count": null,
   "metadata": {},
   "outputs": [],
   "source": [
    "#2 Subset the businesses\n",
    "business = business.loc[business['account_status'] == 'Active']\n",
    "health_list = ['FOOD (HEALTH) SUPPLEMENT STORES', 'GROCERY STORES', 'GROCERY (EXCEPT CONVENIENCE) STORES']\n",
    "unhealth_list = ['FOOD SERVICES & DRINKING PLACES', 'FULL-SERVICE RESTAURANTS', 'LIMITED-SERVICE EATING PLACES', 'LIMITED-SERVICE RESTAURANTS', 'BEER, WINE & LIQUOR STORES', 'TOBACCO STORES', 'CONVENIENCE STORES']\n",
    "health = business[business['naics_description'].isin(health_list)]\n",
    "unhealth = business[business['naics_description'].isin(unhealth_list)]"
   ]
  },
  {
   "cell_type": "code",
   "execution_count": null,
   "metadata": {},
   "outputs": [],
   "source": [
    "#3 Determine census tracts intersecting with the promise zone, and all other census tracts within the boundary of San Diego.\n",
    "cols = ['NAME', 'geometry']\n",
    "sub_regions = juris[cols].dissolve(by='NAME', aggfunc = 'sum', as_index = False)\n",
    "sd = sub_regions.loc[sub_regions['NAME'] == 'SAN DIEGO']\n",
    "sd"
   ]
  },
  {
   "cell_type": "code",
   "execution_count": null,
   "metadata": {},
   "outputs": [],
   "source": [
    "#3\n",
    "polygons = []\n",
    "polygon = pd.DataFrame()\n",
    "for i, rows in census.iterrows():\n",
    "    for j, ro in sd.iterrows():\n",
    "    #print(i.geometry)\n",
    "   # print(sd['geometry'])\n",
    "        if ro['geometry'].contains(rows['geometry']):\n",
    "            dict1 = {}\n",
    "            dict1.update(rows)\n",
    "            polygons.append(dict1)\n",
    "            #polygons.append(ro['geometry'].intersects(rows['geometry']))\n",
    "polygons  \n",
    "polygon = pd.DataFrame(polygons)\n",
    "polygon\n",
    "\n",
    "lst = []\n",
    "for k , polygon_city in polygon.iterrows():\n",
    "    for l, po_city in promise.iterrows():\n",
    "        if po_city['geometry'].intersects(polygon_city['geometry']):\n",
    "            lst.append(po_city['geometry'].intersects(polygon_city['geometry']))\n",
    "        else:\n",
    "            lst.append(False)\n",
    "\n",
    "polygon['PROMISE'] = lst\n",
    "#print(lst)"
   ]
  },
  {
   "cell_type": "code",
   "execution_count": null,
   "metadata": {},
   "outputs": [],
   "source": [
    "#4 calculate the number of healthy and not-healthy options within that tract\n",
    "from shapely.geometry import Point\n",
    "import numpy as np\n",
    "health['longitude'] = health['longitude'].replace('', np.nan)\n",
    "health = health.dropna(subset = ['longitude', 'latitude'])\n",
    "health['geometry'] = health.apply(lambda x: Point(float(x['longitude']), float(x['latitude'])), axis = 1)\n",
    "unhealth['longitude'] = unhealth['longitude'].replace('', np.nan)\n",
    "unhealth = unhealth.dropna(subset = ['longitude', 'latitude'])\n",
    "unhealth['geometry'] = unhealth.apply(lambda x: Point(float(x['longitude']), float(x['latitude'])), axis = 1)\n",
    "health.crs = {'init' :'epsg:4326'}\n",
    "health = health.to_crs(epsg=2230)\n",
    "unhealth.crs = {'init' :'epsg:4326'}\n",
    "unhealth = unhealth.to_crs(epsg=2230)\n",
    "for i, tract in polygon.iterrows():\n",
    "    num_health = 0\n",
    "    num_unhealth = 0\n",
    "    for j, food in health.iterrows():\n",
    "        #print((tract.geometry))\n",
    "        if (food.geometry).within(tract.geometry):\n",
    "            #print(food.geometry)\n",
    "            num_health+=1\n",
    "    for x, xfood in unhealth.iterrows():\n",
    "        if (xfood.geometry).within(tract.geometry):\n",
    "            num_unhealth+=1\n",
    "    polygon.loc[i, 'health'] = num_health\n",
    "    polygon.loc[i, 'unhealth'] = num_unhealth\n",
    "polygon['health_ratio'] = polygon['health']/(polygon['health']+polygon['unhealth'])\n",
    "polygon['unhealth_ratio'] = polygon['unhealth']/(polygon['health']+polygon['unhealth'])\n",
    "polygon"
   ]
  },
  {
   "cell_type": "code",
   "execution_count": null,
   "metadata": {},
   "outputs": [],
   "source": [
    "#5 Compute the ratio of healthy and non-healthy options, and build a regression model showing how it depends on social-demographic characteristics, such as median income or number of people in lowest and highest income brackets\n",
    "from sklearn import linear_model as lm\n",
    "from sklearn.pipeline import Pipeline\n",
    "import sklearn.preprocessing as pp\n",
    "from sklearn.compose import ColumnTransformer\n",
    "from sklearn.model_selection import train_test_split\n",
    "import matplotlib.pyplot as plt\n",
    "\n",
    "feats = ['ORDINAL', 'TRACT']\n",
    "polygon['healthy'] = polygon['health'] > polygon['unhealth']\n",
    "socio_poly = polygon.merge(socio, how='outer', on='TRACT')\n",
    "socio_poly = socio_poly.dropna(subset=['health_ratio'])\n",
    "prom = socio_poly[socio_poly['PROMISE'] == True ]\n",
    "other = socio_poly[socio_poly['PROMISE'] == False ]\n",
    "\n",
    "promX = prom[feats]\n",
    "promY = prom['health_ratio']\n",
    "otherX = other[feats]\n",
    "otherY = other['health_ratio']\n",
    "\n",
    "x_train, x_test, y_train, y_test = train_test_split(promX, promY, test_size=0.25)\n",
    "cat_transformer = Pipeline(steps=[('onehot', pp.OneHotEncoder())])\n",
    "preproc = ColumnTransformer(transformers=[('cat', cat_transformer, feats)])\n",
    "lin_reg = lm.LinearRegression()\n",
    "pl = Pipeline(steps=[('preprocessor', preproc), ('linear', lin_reg)])\n",
    "pl.fit(x_train, y_train)\n",
    "score = pl.score(x_test, y_test)\n",
    "print(\"Regression score for tracts within the promise zone: {}\".format(score))\n",
    "\n",
    "x_train, x_test, y_train, y_test = train_test_split(otherX, otherY, test_size=0.25)\n",
    "cat_transformer = Pipeline(steps=[('onehot', pp.OneHotEncoder())])\n",
    "preproc = ColumnTransformer(transformers=[('cat', cat_transformer, feats)])\n",
    "lin_reg = lm.LinearRegression()\n",
    "pl = Pipeline(steps=[('preprocessor', preproc), ('linear', lin_reg)])\n",
    "pl.fit(x_train, y_train)\n",
    "score = pl.score(x_test, y_test)\n",
    "print(\"Regression score for tracts outside the promise zone: {}\".format(score))"
   ]
  },
  {
   "cell_type": "markdown",
   "metadata": {},
   "source": [
    "#5 description The classifier score for applying a linear regression to tracts within the promise zone was 0.856366 while the score for applying a linear regression to tracts outside of the promise zone was 0.30966. This can indicate that for areas within the promise zone, income level and geographic location are closely correlated with the ratio of healthy restaurants that exist in the area while the same cannot be said for areas outside of the promise zone. However, we should take pause in coming to this conclusion due to the fact that we had very little applicable healthy and non-healthy restaurant data, resulting in many healthy ratios ending up being 0 due to not having found any healthy or unhealthy restaurants in the business dataset. This could lead to reduced reliability in the conclusions we can draw from this regression study."
   ]
  },
  {
   "cell_type": "code",
   "execution_count": null,
   "metadata": {},
   "outputs": [],
   "source": [
    "#6 map showing the ratio of healthy and not healthy food options, and the locations of stores offering healthy food\n",
    "from geopandas import GeoDataFrame\n",
    "import matplotlib.pyplot as plt\n",
    "#import GeoDataFrame\n",
    "\n",
    "polygon = GeoDataFrame(polygon, geometry = polygon.geometry)  #, crs=crs, geometry = polygon.geometry)\n",
    "map_df = polygon\n",
    "map_df.head()\n",
    "polygon['unhealth_ratio'] = polygon['unhealth_ratio'].fillna(0)\n",
    "#map_df.plot()\n",
    "\n",
    "variable = 'unhealth_ratio'\n",
    "vmin, vmax = 0, 1\n",
    "\n",
    "fig, ax = plt.subplots(1, figsize = (10, 6))\n",
    "a = map_df.plot(column = variable, cmap = 'BuGn', linewidth = 0.8, ax=ax, edgecolor = '0.8')\n",
    "#fig, ax = plt.subplot(1, figsize = (10,6))\n",
    "ax.axis('off')\n",
    "ax.set_title('Ratio of the Unhealthy')\n",
    "color_bar = plt.cm.ScalarMappable(cmap='BuGn', norm=plt.Normalize(vmin=vmin, vmax=vmax))\n",
    "color_bar._A = []\n",
    "#health.plot(ax = a, marker='*', color='black', markersize = 2)\n",
    "#health.plot(ax = a, marker='*', color='black', markersize = 10)\n",
    "b = health.plot(ax = a, marker = 'o', color='black', markersize = 10)\n",
    "#print(health)\n",
    "#health.plot(ax = a, marker = 'o', color = 'k', markersize = 10)\n",
    "col_bar = fig.colorbar(color_bar) \n",
    "promise.plot(ax = b, color = 'None', edgecolor = 'b')\n",
    "#promise.plot(ax = b, linewidth = 0.15)\n",
    "#promise.plot(ax = b, linewidth = 0.5)\n",
    "#promise.plot(ax = b, color = 'None', edgecolor = 'black')\n",
    "#promise.plot(ax = b, color = 'None', edgecolor = 'c')\n",
    "#promise.plot(ax = b, color = 'None', edgecolor = 'black', linewidth = 0.15)\n",
    "#promise.plot(ax = b, color = 'None', edgecolor = 'blue', linewidth = 0.10)\n",
    "\n"
   ]
  }
 ],
 "metadata": {
  "kernelspec": {
   "display_name": "Python 3",
   "language": "python",
   "name": "python3"
  },
  "language_info": {
   "codemirror_mode": {
    "name": "ipython",
    "version": 3
   },
   "file_extension": ".py",
   "mimetype": "text/x-python",
   "name": "python",
   "nbconvert_exporter": "python",
   "pygments_lexer": "ipython3",
   "version": "3.7.6"
  }
 },
 "nbformat": 4,
 "nbformat_minor": 4
}
