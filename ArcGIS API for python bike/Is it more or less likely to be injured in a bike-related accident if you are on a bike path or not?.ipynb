{
 "cells": [
  {
   "cell_type": "code",
   "execution_count": null,
   "metadata": {},
   "outputs": [],
   "source": [
    "%matplotlib inline \n",
    "import geopandas as gpd\n",
    "import pandas as pd\n",
    "from arcgis import *\n",
    "import arcgis\n",
    "from arcgis.gis import GIS\n",
    "from arcgis import geometry\n",
    "from arcgis.features import GeoAccessor, GeoSeriesAccessor\n",
    "import pandas as pd\n",
    "from IPython.display import display\n",
    "import numpy as np\n",
    "\n",
    "\n",
    "# add packages as needed\n",
    "\n",
    "import os\n",
    "current_dir = os.getcwd()\n",
    "print(current_dir)"
   ]
  },
  {
   "cell_type": "code",
   "execution_count": null,
   "metadata": {},
   "outputs": [],
   "source": [
    "gis = GIS(username='hnavnitl_UCSDOnline')"
   ]
  },
  {
   "cell_type": "code",
   "execution_count": null,
   "metadata": {},
   "outputs": [],
   "source": [
    "# 1. Load the data (using concent manager, and also adding downloaded datasets), retain only fields we need\n",
    "# You code goes here\n",
    "\n"
   ]
  },
  {
   "cell_type": "code",
   "execution_count": null,
   "metadata": {},
   "outputs": [],
   "source": [
    "collisions = pd.read_csv('Collisions.csv')\n",
    "collisions = collisions[[\"CASE_ID\",\"COLLISION_SEVERITY\",\"NUMBER_KILLED\",\"NUMBER_INJURED\",\n",
    "                         \"PARTY_COUNT\",\"PRIMARY_COLL_FACTOR\",\"PEDESTRIAN_ACCIDENT\",\n",
    "                         \"BICYCLE_ACCIDENT\",\"MOTORCYCLE_ACCIDENT\",\"TRUCK_ACCIDENT\",\n",
    "                         \"ALCOHOL_INVOLVED\",\"LATITUDE\",\"LONGITUDE\",\"COUNTY\",\"CITY\",\n",
    "                         \"POINT_X\",\"POINT_Y\"]]\n",
    "parties = pd.read_csv('Parties.csv')\n",
    "parties = parties[[\"CASE_ID\",\"PARTY_NUMBER\",\"PARTY_TYPE\", 'PARTY_SOBRIETY',\"AT_FAULT\",\n",
    "                   \"DIR_OF_TRAVEL\"]]\n",
    "victims = pd.read_csv('Victims.csv')\n",
    "parties['PARTY_TYPE'] = parties['PARTY_TYPE'].replace('-', '')\n",
    "parties['PARTY_TYPE'] = pd.to_numeric(parties['PARTY_TYPE'])"
   ]
  },
  {
   "cell_type": "code",
   "execution_count": null,
   "metadata": {},
   "outputs": [],
   "source": [
    "party = parties[['PARTY_TYPE', 'CASE_ID']].set_index('CASE_ID')\n",
    "party = pd.get_dummies(party['PARTY_TYPE'])\n",
    "party.columns = ['DRIVER', 'PED', 'PARKED', \"BIKE\", 'OTHER']\n",
    "party = party.groupby(['CASE_ID']).sum().reset_index()\n",
    "party['NUM_PARTIES'] = party['DRIVER'] + party['PED'] + party['PARKED'] + party['BIKE'] + party['OTHER']\n",
    "parties = pd.merge(parties, party, how='inner', on='CASE_ID')"
   ]
  },
  {
   "cell_type": "code",
   "execution_count": null,
   "metadata": {},
   "outputs": [],
   "source": [
    "# 2. Joining party (and  victims, if going for extra credit) to collisions. \n",
    "# You code goes here"
   ]
  },
  {
   "cell_type": "code",
   "execution_count": null,
   "metadata": {},
   "outputs": [],
   "source": [
    "merged = pd.merge(parties, collisions, on=['CASE_ID'])"
   ]
  },
  {
   "cell_type": "code",
   "execution_count": null,
   "metadata": {},
   "outputs": [],
   "source": [
    "# 3. Clean spatial data as needed and create a point layer of collisions\n",
    "# You code goes here"
   ]
  },
  {
   "cell_type": "code",
   "execution_count": null,
   "metadata": {},
   "outputs": [],
   "source": [
    "merged['LATITUDE'] = merged['LATITUDE'].fillna(merged['POINT_Y'])\n",
    "merged['LONGITUDE'] = merged['LONGITUDE'].fillna(merged['POINT_X'])\n",
    "unique = merged.drop_duplicates(subset = 'CASE_ID')\n",
    "unique = merged[['CASE_ID', 'LATITUDE', 'LONGITUDE', 'ALCOHOL_INVOLVED']]\n",
    "sdf = pd.DataFrame.spatial.from_xy(unique, x_column = 'LONGITUDE', y_column = 'LATITUDE')\n",
    "sdf = sdf.replace(np.nan, '', regex=True)\n",
    "point_layer = sdf.spatial.to_featurelayer(title='Unique', gis=gis, tags='bike')\n",
    "point_layer.share(org=True)"
   ]
  },
  {
   "cell_type": "code",
   "execution_count": null,
   "metadata": {},
   "outputs": [],
   "source": [
    "# 4. Define what you mean to be on a bike route, \n",
    "# and figure out, for each collision, whether it happened on a bike route or not. \n",
    "# Summarize collisions of different types by zip codes.\n",
    "# You code goes here\n",
    "\n"
   ]
  },
  {
   "cell_type": "code",
   "execution_count": null,
   "metadata": {},
   "outputs": [],
   "source": [
    "san_bike_routes = gis.content.search('title: MP3_BIKE_ROUTES owner: boh016_UCSDOnline',\n",
    "                                         'Feature layer',\n",
    "                                          outside_org=False)[0]\n",
    "\n",
    "san_bike_routes\n",
    "\n",
    "bike_routes = san_bike_routes.layers[0]\n",
    "bike_routes\n",
    "\n"
   ]
  },
  {
   "cell_type": "code",
   "execution_count": null,
   "metadata": {},
   "outputs": [],
   "source": [
    "for lyr in san_bike_routes.layers:\n",
    "    print(lyr.properties.name)"
   ]
  },
  {
   "cell_type": "code",
   "execution_count": null,
   "metadata": {},
   "outputs": [],
   "source": [
    "bike_street_filtered_map = gis.map('San Diego')\n",
    "bike_street_filtered_map"
   ]
  },
  {
   "cell_type": "code",
   "execution_count": null,
   "metadata": {},
   "outputs": [],
   "source": [
    "# bike_street_filtered_map.add_layer({\"type\":\"FeatureLayer\", \n",
    "#               \"url\":bike_routes.url,\n",
    "#               \"definition_expression\" : \"SEGMENT_TY = 8\", # code for trails\n",
    "#              })\n",
    "#bike_street_filtered_map\n",
    "bike_street_filtered_map.add_layer(bike_routes)"
   ]
  },
  {
   "cell_type": "code",
   "execution_count": null,
   "metadata": {},
   "outputs": [],
   "source": [
    "item = gis.content.get(\"08c0a2e88b55479389e25ca1d0fc7326\")\n",
    "item"
   ]
  },
  {
   "cell_type": "code",
   "execution_count": null,
   "metadata": {},
   "outputs": [],
   "source": [
    "bike_street_filtered_map.add_layer(item)"
   ]
  },
  {
   "cell_type": "code",
   "execution_count": null,
   "metadata": {},
   "outputs": [],
   "source": [
    "from arcgis.features.use_proximity import create_buffers"
   ]
  },
  {
   "cell_type": "code",
   "execution_count": null,
   "metadata": {},
   "outputs": [],
   "source": [
    "buffer_street = create_buffers(item,\n",
    "                               distances=[0.01],\n",
    "                               ring_type='Rings',\n",
    "                               units='Miles')"
   ]
  },
  {
   "cell_type": "code",
   "execution_count": null,
   "metadata": {},
   "outputs": [],
   "source": [
    "bike_street_filtered_map.add_layer(buffer_street)"
   ]
  },
  {
   "cell_type": "code",
   "execution_count": null,
   "metadata": {},
   "outputs": [],
   "source": [
    "routes = pd.DataFrame.spatial.from_layer(bike_routes)\n",
    "#print(tract_routes.head())\n",
    "\n",
    "#bike_points = item.layers[0]\n",
    "#print(tract_points.head())\n",
    "\n",
    "#joint_points = tract_routes.join(tract_points, on = 'SHAPE', how='left')\n",
    "#joint_points"
   ]
  },
  {
   "cell_type": "code",
   "execution_count": null,
   "metadata": {},
   "outputs": [],
   "source": [
    "# 5. Generate maps\n",
    "# You code goes here"
   ]
  },
  {
   "cell_type": "code",
   "execution_count": null,
   "metadata": {},
   "outputs": [],
   "source": [
    "# Map of whether alcohol involved\n",
    "alc_map = gis.map('San Diego', zoomlevel = 10)\n",
    "alc_map.add_layer(bike_routes)\n",
    "alc_renderer = {\"renderer\": \"autocast\", \"type\": \"uniqueValue\", \"field1\":\"ALCOHOL_IN\"}\n",
    "\n",
    "alc_renderer[\"uniqueValueInfos\"] = [{  \"value\": \"Y\",\n",
    "                                        \"symbol\": {\"angle\":0,\"xoffset\":0,\"yoffset\":0,\"type\":\"esriPMS\",\"url\":\"http://static.arcgis.com/images/Symbols/PeoplePlaces/Bar.png\",\"contentType\":\"image/png\",\"width\":18,\"height\":18\n",
    "                                        },\n",
    "                                        \"label\": \"Alcohol Involved\"\n",
    "                                    }]\n",
    "alc_map.add_layer(collisions, {'type': 'FeatureLayer',\n",
    "                              'renderer': alc_renderer,\n",
    "                              'field_name':'ALCOHOL_IN'})\n",
    "alc_map"
   ]
  },
  {
   "cell_type": "code",
   "execution_count": null,
   "metadata": {},
   "outputs": [],
   "source": [
    "impaired = parties.loc[parties['PARTY_TYPE'] == 4]\n",
    "impaired = impaired.loc[impaired['AT_FAULT'] == 'Y']\n",
    "sdf = pd.DataFrame.spatial.from_xy(merged, x_column = 'LONGITUDE', y_column = 'LATITUDE')\n",
    "sdf = sdf.replace(np.nan, '', regex=True)\n",
    "point_layer = sdf.spatial.to_featurelayer(title='Drunk Cyclist', gis=gis, tags='bike')\n",
    "point_layer.share(org=True)"
   ]
  },
  {
   "cell_type": "code",
   "execution_count": null,
   "metadata": {},
   "outputs": [],
   "source": [
    "# Map of whether bicyclist was at fault because of impairment\n",
    "drunk_bike = gis.content.get(\"01b2bb984293475badec273228ca70ae\")\n",
    "drunk_bike_map = gis.map('San Diego', zoomlevel = 10)\n",
    "drunk_bike_map.add_layer(bike_routes)\n",
    "drunk_bike_renderer = {\"renderer\": \"autocast\", \"type\": \"uniqueValue\", \"field1\":\"PARTY_SOBR\"}\n",
    "drunk_bike_renderer[\"uniqueValueInfos\"] = [{  \"value\": \"A\",\n",
    "                                        \"symbol\": {\"angle\":0,\"xoffset\":0,\"yoffset\":0,\"type\":\"esriPMS\",\"url\":\"http://static.arcgis.com/images/Symbols/Basic/RedSphere.png\",\"contentType\":\"image/png\",\"width\":14,\"height\":14\n",
    "                                        },\n",
    "                                        \"label\": \"Had Not Been Drinking\"\n",
    "                                    },\n",
    "                                          {  \"value\": \"B\",\n",
    "                                        \"symbol\": {\"angle\":0,\"xoffset\":0,\"yoffset\":0,\"type\":\"esriPMS\",\"url\":\"http://static.arcgis.com/images/Symbols/Basic/OrangeSphere.png\",\"contentType\":\"image/png\",\"width\":14,\"height\":14\n",
    "                                        },\n",
    "                                        \"label\": \"Had Been Drinking, Under Influence\"\n",
    "                                    },\n",
    "                                          {  \"value\": \"C\",\n",
    "                                        \"symbol\": {\"angle\":0,\"xoffset\":0,\"yoffset\":0,\"type\":\"esriPMS\",\"url\":\"http://static.arcgis.com/images/Symbols/Basic/RedSphere.png\",\"contentType\":\"image/png\",\"width\":14,\"height\":14\n",
    "                                        },\n",
    "                                        \"label\": \"Had Been Drinking, Not Under Influence\"\n",
    "                                    },\n",
    "                                          {  \"value\": \"D\",\n",
    "                                        \"symbol\": {\"angle\":0,\"xoffset\":0,\"yoffset\":0,\"type\":\"esriPMS\",\"url\":\"http://static.arcgis.com/images/Symbols/Basic/BlueSphere.png\",\"contentType\":\"image/png\",\"width\":14,\"height\":14\n",
    "                                        },\n",
    "                                        \"label\": \"Had Been Drinking, Impairment Unknown\"\n",
    "                                    },\n",
    "                                          {  \"value\": \"G\",\n",
    "                                        \"symbol\": {\"angle\":0,\"xoffset\":0,\"yoffset\":0,\"type\":\"esriPMS\",\"url\":\"http://static.arcgis.com/images/Symbols/Basic/BlueSphere.png\",\"contentType\":\"image/png\",\"width\":14,\"height\":14\n",
    "                                        },\n",
    "                                        \"label\": \"Impairment Unknown\"\n",
    "                                    }]\n",
    "drunk_bike_map.add_layer(drunk_bike, {'type': 'FeatureLayer',\n",
    "                              'renderer': drunk_bike_renderer,\n",
    "                              'field_name':'PARTY_SOBR'})\n",
    "drunk_bike_map"
   ]
  },
  {
   "cell_type": "code",
   "execution_count": null,
   "metadata": {},
   "outputs": [],
   "source": [
    "types = merged.loc[merged['NUM_PARTIES'] < 4]\n",
    "types['CRASH_TYPE'] = np.nan\n",
    "\n",
    "types.loc[(types['DRIVER'] == 1) & (types['NUM_PARTIES'] == 2), 'CRASH_TYPE'] = 'CAR IN 2 PARTY CRASH'\n",
    "types.loc[(types['PED'] == 1) & (types['NUM_PARTIES'] == 2), 'CRASH_TYPE'] = 'PED IN 2 PARTY CRASH'\n",
    "types.loc[(types['PARKED'] == 1) & (types['NUM_PARTIES'] == 2), 'CRASH_TYPE'] = 'PARKED CAR IN 2 PARTY CRASH'\n",
    "types.loc[(types['BIKE'] == 1) & (types['NUM_PARTIES'] == 2), 'CRASH_TYPE'] = 'BIKE IN 2 PARTY CRASH'\n",
    "\n",
    "types.loc[(types['PED'] > 1) & (types['NUM_PARTIES'] == 3), 'CRASH_TYPE'] = '2 PED IN 3 PARTY CRASH'\n",
    "types.loc[(types['DRIVER'] > 1) & (types['NUM_PARTIES'] == 3), 'CRASH_TYPE'] = '2 CAR IN 3 PARTY CRASH'\n",
    "types.loc[(types['PARKED'] > 1) & (types['NUM_PARTIES'] == 3), 'CRASH_TYPE'] = '2 PARKED IN 3 PARTY CRASH'\n",
    "types.loc[(types['BIKE'] > 1) & (types['NUM_PARTIES'] == 3), 'CRASH_TYPE'] = '2 BIKE IN 3 PARTY CRASH'\n",
    "\n",
    "types.loc[types['NUM_PARTIES'] == 1, 'CRASH_TYPE'] = 'NO OTHER PARTIES'\n",
    "types['CRASH_TYPE'] = types['CRASH_TYPE'].fillna('Varied Vehicles involved')\n",
    "types = types[['CRASH_TYPE', 'LONGITUDE', 'LATITUDE']]\n",
    "\n",
    "sdf = pd.DataFrame.spatial.from_xy(types, x_column = 'LONGITUDE', y_column = 'LATITUDE')\n",
    "sdf = sdf.replace(np.nan, '', regex=True)\n",
    "point_layer = sdf.spatial.to_featurelayer(title='Crash Types', gis=gis, tags='bike')\n",
    "point_layer.share(org=True)"
   ]
  },
  {
   "cell_type": "code",
   "execution_count": null,
   "metadata": {},
   "outputs": [],
   "source": [
    "# Map of types of crashes\n",
    "crash_types = gis.content.get(\"1ea00e20ec3347c4acf4c819a6b6bda5\")\n",
    "crash_types_map = gis.map('San Diego', zoomlevel = 10)\n",
    "crash_types_map.add_layer(bike_routes)\n",
    "crash_types_renderer = {\"renderer\": \"autocast\", \"type\": \"uniqueValue\", \"field1\":\"CRASH_TYPE\"}\n",
    "crash_types_renderer[\"uniqueValueInfos\"] = [{  \"value\": \"CAR IN 2 PARTY CRASH\",\n",
    "                                        \"symbol\": {\"angle\":0,\"xoffset\":0,\"yoffset\":0,\"type\":\"esriPMS\",\"url\":\"http://static.arcgis.com/images/Symbols/Basic/OrangeSphere.png\",\"contentType\":\"image/png\",\"width\":14,\"height\":14\n",
    "                                        },\n",
    "                                        \"label\": \"CAR IN 2 PARTY CRASH\"\n",
    "                                    },\n",
    "                                          {  \"value\": \"PED IN 2 PARTY CRASH\",\n",
    "                                        \"symbol\": {\"angle\":0,\"xoffset\":0,\"yoffset\":0,\"type\":\"esriPMS\",\"url\":\"http://static.arcgis.com/images/Symbols/Basic/PurpleSphere.png\",\"contentType\":\"image/png\",\"width\":14,\"height\":14\n",
    "                                        },\n",
    "                                        \"label\": \"PED IN 2 PARTY CRASH\"\n",
    "                                    },\n",
    "                                          {  \"value\": \"PARKED CAR IN 2 PARTY CRASH\",\n",
    "                                        \"symbol\": {\"angle\":0,\"xoffset\":0,\"yoffset\":0,\"type\":\"esriPMS\",\"url\":\"http://static.arcgis.com/images/Symbols/Basic/GreenSphere.png\",\"contentType\":\"image/png\",\"width\":14,\"height\":14\n",
    "                                        },\n",
    "                                        \"label\": \"PARKED CAR IN 2 PARTY CRASH\"\n",
    "                                    },\n",
    "                                          {  \"value\": \"BIKE IN 2 PARTY CRASH\",\n",
    "                                        \"symbol\": {\"angle\":0,\"xoffset\":0,\"yoffset\":0,\"type\":\"esriPMS\",\"url\":\"http://static.arcgis.com/images/Symbols/Basic/YellowSphere.png\",\"contentType\":\"image/png\",\"width\":14,\"height\":14\n",
    "                                        },\n",
    "                                        \"label\": \"BIKE IN 2 PARTY CRASH\"\n",
    "                                    },\n",
    "                                          {  \"value\": \"2 PED IN 3 PARTY CRASH\",\n",
    "                                        \"symbol\": {\"angle\":0,\"xoffset\":0,\"yoffset\":0,\"type\":\"esriPMS\",\"url\":\"http://static.arcgis.com/images/Symbols/Basic/PurpleSphere.png\",\"contentType\":\"image/png\",\"width\":14,\"height\":14\n",
    "                                        },\n",
    "                                        \"label\": \"2 PED IN 3 PARTY CRASH\"\n",
    "                                    },\n",
    "                                        {  \"value\": \"2 CAR IN 3 PARTY CRASH\",\n",
    "                                        \"symbol\": {\"angle\":0,\"xoffset\":0,\"yoffset\":0,\"type\":\"esriPMS\",\"url\":\"http://static.arcgis.com/images/Symbols/Basic/OrangeSphere.png\",\"contentType\":\"image/png\",\"width\":14,\"height\":14\n",
    "                                        },\n",
    "                                        \"label\": \"2 CAR IN 3 PARTY CRASH\"\n",
    "                                    },\n",
    "                                          {  \"value\": \"2 PARKED IN 3 PARTY CRASH\",\n",
    "                                        \"symbol\": {\"angle\":0,\"xoffset\":0,\"yoffset\":0,\"type\":\"esriPMS\",\"url\":\"http://static.arcgis.com/images/Symbols/Basic/GreenSphere.png\",\"contentType\":\"image/png\",\"width\":14,\"height\":14\n",
    "                                        },\n",
    "                                        \"label\": \"2 PARKED IN 3 PARTY CRASH\"\n",
    "                                    },\n",
    "                                          {  \"value\": \"2 BIKE IN 3 PARTY CRASH\",\n",
    "                                        \"symbol\": {\"angle\":0,\"xoffset\":0,\"yoffset\":0,\"type\":\"esriPMS\",\"url\":\"http://static.arcgis.com/images/Symbols/Basic/YellowSphere.png\",\"contentType\":\"image/png\",\"width\":14,\"height\":14\n",
    "                                        },\n",
    "                                        \"label\": \"2 BIKE IN 3 PARTY CRASH\"\n",
    "                                    },\n",
    "                                          {  \"value\": \"NO OTHER PARTIES\",\n",
    "                                        \"symbol\": {\"angle\":0,\"xoffset\":0,\"yoffset\":0,\"type\":\"esriPMS\",\"url\":\"http://static.arcgis.com/images/Symbols/Basic/BlueSphere.png\",\"contentType\":\"image/png\",\"width\":14,\"height\":14\n",
    "                                        },\n",
    "                                        \"label\": \"NO OTHER PARTIES\"\n",
    "                                    },\n",
    "                                        {  \"value\": \"Varied Vehicles involved\",\n",
    "                                        \"symbol\": {\"angle\":0,\"xoffset\":0,\"yoffset\":0,\"type\":\"esriPMS\",\"url\":\"http://static.arcgis.com/images/Symbols/Basic/RedSphere.png\",\"contentType\":\"image/png\",\"width\":14,\"height\":14\n",
    "                                        },\n",
    "                                        \"label\": \"Varied Vehicles involved\"\n",
    "                                    }]\n",
    "crash_types_map.add_layer(crash_types, {'type': 'FeatureLayer',\n",
    "                              'renderer': crash_types_renderer,\n",
    "                              'field_name':'CRASH_TYPE'})\n",
    "crash_types_map"
   ]
  },
  {
   "cell_type": "code",
   "execution_count": null,
   "metadata": {},
   "outputs": [],
   "source": [
    "zip_codes = gis.content.get('81cf0db99f754a0ebc6f5ddaefd7bcad')\n",
    "\n",
    "drunk = merged.loc[parties['PARTY_TYPE'] == 4]\n",
    "drunk = drunk[['LONGITUDE', 'LATITUDE']]\n",
    "\n",
    "sdf = pd.DataFrame.spatial.from_xy(drunk, x_column = 'LONGITUDE', y_column = 'LATITUDE')\n",
    "sdf = sdf.replace(np.nan, '', regex=True)\n",
    "point_layer = sdf.spatial.to_featurelayer(title='Alcohol', gis=gis, tags='bike')\n",
    "point_layer.share(org=True)"
   ]
  },
  {
   "cell_type": "code",
   "execution_count": null,
   "metadata": {},
   "outputs": [],
   "source": [
    "# Map of drunk collisions separated by zip code\n",
    "drunk_col = gis.content.get('4f65952e4c554590add8dab7de9457d7')\n",
    "drunk_map = gis.map('San Diego', zoomlevel = 10)\n",
    "drunk_map.add_layer(zip_codes)\n",
    "drunk_map.add_layer(drunk_col)\n",
    "\n",
    "drunk_map"
   ]
  },
  {
   "cell_type": "code",
   "execution_count": null,
   "metadata": {},
   "outputs": [],
   "source": [
    "# 6. Analyze the data and write responses to the above questions\n",
    "# You code goes here"
   ]
  },
  {
   "cell_type": "markdown",
   "metadata": {},
   "source": [
    "Through our data analysis we found that it is less likely to be injured in a bike-related accident if you are on a bike path. This is likely due to the fact that cars and other people on the road are aware of where a biker is going to be. We also examined types of parties involved in crashes and determined the various categories to be either a 1 party accident, a 2 party accident, or a 3 party accidents with varied numbers of each party type. We decided to exclude instances of collisions where there were more than 3 parties involved such as cases where there were 4, 5, or even 12 parties involved since each of these collisions only occurred once. In doing this analysis we found that the in bike accidents, the other party is usually a car, regardless of whether two or three parties were involved. We also found that in accidents where the cylist was the party at fault, very often either they had not been drinking or they had been drinking but were not under the influence. This was suprising to us given that we had originally thought many accidents must have been caused by intoxication. However, there was still a good number of accidents that did have alcohol involved in general."
   ]
  },
  {
   "cell_type": "markdown",
   "metadata": {},
   "source": [
    "URLS Created\n",
    "https://ucsdonline.maps.arcgis.com/home/item.html?id=08c0a2e88b55479389e25ca1d0fc7326 https://ucsdonline.maps.arcgis.com/home/item.html?id=6f2e0b3b36fa49689ceb6a1337c78a56 https://ucsdonline.maps.arcgis.com/home/item.html?id=01b2bb984293475badec273228ca70ae https://ucsdonline.maps.arcgis.com/home/item.html?id=1ea00e20ec3347c4acf4c819a6b6bda5 https://ucsdonline.maps.arcgis.com/home/item.html?id=4f65952e4c554590add8dab7de9457d7"
   ]
  },
  {
   "cell_type": "code",
   "execution_count": null,
   "metadata": {},
   "outputs": [],
   "source": []
  },
  {
   "cell_type": "code",
   "execution_count": null,
   "metadata": {},
   "outputs": [],
   "source": []
  },
  {
   "cell_type": "code",
   "execution_count": null,
   "metadata": {},
   "outputs": [],
   "source": []
  }
 ],
 "metadata": {
  "kernelspec": {
   "display_name": "Python 3",
   "language": "python",
   "name": "python3"
  },
  "language_info": {
   "codemirror_mode": {
    "name": "ipython",
    "version": 3
   },
   "file_extension": ".py",
   "mimetype": "text/x-python",
   "name": "python",
   "nbconvert_exporter": "python",
   "pygments_lexer": "ipython3",
   "version": "3.7.6"
  }
 },
 "nbformat": 4,
 "nbformat_minor": 4
}
