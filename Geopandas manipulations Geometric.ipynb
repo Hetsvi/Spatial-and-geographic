{
 "cells": [
  {
   "cell_type": "markdown",
   "metadata": {},
   "source": [
    "Geometric manipulations in Geopandas, projections, creating maps"
   ]
  },
  {
   "cell_type": "markdown",
   "metadata": {},
   "source": [
    "are looking for three relatively large parks, which are the closest to the UCSD's CSE Department building. "
   ]
  },
  {
   "cell_type": "code",
   "execution_count": null,
   "metadata": {},
   "outputs": [],
   "source": [
    "%matplotlib inline \n",
    "import geopandas as gpd\n",
    "import pandas as pd\n",
    "from shapely.geometry import Point\n",
    "import folium\n",
    "\n",
    "def closest_polys (point_lat, point_lon, polys_gdf, area_field, area_field_unit, min_area_miles, number_of_polys):\n",
    "    point_df = pd.DataFrame({'Latitude': [point_lat],\n",
    "     'Longitude': [point_lon]})\n",
    "    point_df['Coordinates'] = list(zip(point_df.Longitude, point_df.Latitude))\n",
    "    point_df['Coordinates'] = point_df['Coordinates'].apply(Point)\n",
    "    point_gdf = gpd.GeoDataFrame(point_df, geometry = 'Coordinates')\n",
    "    if area_field_unit == 'acre':\n",
    "        polys_gdf['sqft'] = polys_gdf[area_field]*43560\n",
    "    parks = polys_gdf[polys_gdf[area_field] > min_area_miles]\n",
    "    parks.crs = {'init' :'epsg:2230'}\n",
    "    parks2 = parks.to_crs({'init': 'epsg:4326'})\n",
    "    point_gdf.crs = {'init': 'epsg:4326'}\n",
    "\n",
    "    parks2['dist'] = parks2.distance(point_gdf.loc[0, 'Coordinates'])\n",
    "    gdf_of_selected_polys_closestN = parks2.nsmallest(number_of_polys, 'dist')\n",
    "    return gdf_of_selected_polys_closestN, point_gdf"
   ]
  },
  {
   "cell_type": "code",
   "execution_count": null,
   "metadata": {},
   "outputs": [],
   "source": [
    "def map_parks (polys_gdf, choropelth_field, prop_symbol_field, num_props, point_gdf, buffers, maptitle):\n",
    "    parks = polys_gdf.to_crs({'init': 'epsg:4326'})\n",
    "\n",
    "    base = parks.plot(figsize=(15,15), column = choropelth_field, cmap='OrRd', legend = True, edgecolor = '0.8')\n",
    "    largest_parks = parks.nlargest(num_props, prop_symbol_field)\n",
    "    largest_parks['centroid'] = largest_parks.centroid\n",
    "    largest_parks = largest_parks.set_geometry('centroid')\n",
    "    park_max = largest_parks[prop_symbol_field].max()\n",
    "    park_min = largest_parks[prop_symbol_field].min()\n",
    "    max_size = 2000\n",
    "    min_size = 50\n",
    "    marker = min_size+(max_size-min_size)*(largest_parks[prop_symbol_field]/park_max)\n",
    "    largest_parks.plot(ax=base, marker='o', color = 'blue', markersize= marker);\n",
    "    point_gdf.plot(ax=base, marker='o', markersize= 250, color = 'black')\n",
    "    convert_buff = [i/69 for i in buffers]\n",
    "    for i in range(len(buffers)):\n",
    "        buff = point_gdf.buffer(convert_buff[i])\n",
    "        plt = buff.plot(ax = base, color = 'orange', alpha = 1/(i+2))\n",
    "    plt.set_title(maptitle)\n",
    "    return plt"
   ]
  },
  {
   "cell_type": "code",
   "execution_count": null,
   "metadata": {},
   "outputs": [],
   "source": [
    "# data for testing\n",
    "lat = 32.8818051\n",
    "lon = -117.2357122\n",
    "min_sqmiles = 0.5\n",
    "area_field = 'GIS_ACRES'\n",
    "area_field_unit='acre'\n",
    "shpFileIn = \"/datasets/dsc170sp19-public/sandiego/parks/PARKS.shp\"\n",
    "sd_parks = gpd.read_file(shpFileIn)\n",
    "count_of_parks = 3\n",
    "\n",
    "selected_parks,point_gdf = closest_polys(lat,lon, sd_parks, area_field, area_field_unit, min_sqmiles, count_of_parks)\n",
    "\n",
    "selected_parks.head()\n",
    "point_gdf.head()\n",
    "\n",
    "choropelth_field = 'PARK_TYPE'\n",
    "prop_symbol_field = 'GIS_ACRES'\n",
    "num_props = 100\n",
    "buffers = [10,20,30]\n",
    "maptitle = \"San Diego Parks near a point\"\n",
    "map_parks = map_parks(sd_parks, choropelth_field, prop_symbol_field, num_props, point_gdf, buffers, maptitle)"
   ]
  }
 ],
 "metadata": {
  "kernelspec": {
   "display_name": "Python 3",
   "language": "python",
   "name": "python3"
  },
  "language_info": {
   "codemirror_mode": {
    "name": "ipython",
    "version": 3
   },
   "file_extension": ".py",
   "mimetype": "text/x-python",
   "name": "python",
   "nbconvert_exporter": "python",
   "pygments_lexer": "ipython3",
   "version": "3.7.6"
  }
 },
 "nbformat": 4,
 "nbformat_minor": 4
}
