{
 "cells": [
  {
   "cell_type": "markdown",
   "metadata": {
    "deletable": false,
    "editable": false,
    "nbgrader": {
     "checksum": "60a2f7d76adaff7f3f7146c754c15f93",
     "grade": false,
     "grade_id": "cell-1f334cce738a72a5",
     "locked": true,
     "schema_version": 1,
     "solution": false
    }
   },
   "source": [
    "#### Mini-Project # 4\n",
    "\n",
    "This project will focus on suitability analysis with raster data. Your tasks will be both conceptual-level and technical. \n",
    "\n",
    "At the conceptual level, you will define a suitability model of your choice, for an area of your choice. See https://en.wikipedia.org/wiki/Suitability_model for a brief description of what a suitability model is. For example, you may be looking for best areas for community gardens: these are often in underutilized land in residential land uses, with good soils, accessible (not steep slope), etc. So you would be looking for areas with a specific type of land use/land cover, with an appropriate range of values of slope, etc. You may build additional criteria based on a range of precipitaiton values, whether the area is affected by wildfires, has mild temperatures, low levels of soil erosion, has vegeration (eg derived from satellite imagery using NDVI), etc. Feel free to use the imagery layers we explored or mentioned during the raster-focused lectures. One of the cells in the last raster notebook contained a list of about a dozen such layers available through AGOL - but feel free to find more. You can use any two of the map combination techniques discussed in the lecture on Thu 5/9. You should clearly identify the map combination technique you use, and discuss any uncertainty issues associated with these specific techniques. \n",
    "\n",
    "As the outcome of this part, you will need to a) describe the suitability model you want to develop; b) identify the raster data layers you will use; and c) describe two of the map combination techniques you will use to derive the two suitablity maps, and their pros and cons. In your model you will need to combine at least 3 raster data layers.\n",
    "\n",
    "The second part will involve implementing your suitability model using arcgis raster functions. For this exercise, we'll only use local functions, and possibly focal_statistics. This is the current state of implementation of raster functions accessible through python API and in ArcGIS Online. Examples of what works are in the lecture notebooks. Look throufgh the last notebook carefully, as there are a few extra cells not shown in the lecture, which demonstrate *working* map combination examples for different types of layers. \n",
    "\n",
    "Be creative - but I'd rather not have you wander into blind alleys too much as you look for a declared function and it is simply not there. Note that since some functions are associated with raster services, they depend on the version of the server a particular imagery layer is served from. See in the lecture notebooks how you can retrieve the version of API supported by each layer, and which functions are supported in each API. \n",
    "\n",
    "The third part will be a brief write-up comparing the two output rasters generated for your suitability model using the two map combination techniques. \n",
    "\n",
    "The notebook should include documentation of the steps, as usually."
   ]
  },
  {
   "cell_type": "markdown",
   "metadata": {},
   "source": [
    "### Names: \n",
    "Hetsvi Navnitlal\n",
    "Emily Kwan \n",
    "\n",
    "### IDs:\n",
    "A13595252\n",
    "A14075665"
   ]
  },
  {
   "cell_type": "markdown",
   "metadata": {
    "deletable": false,
    "editable": false,
    "nbgrader": {
     "checksum": "2df32bf94c3798a31322c3f878b69a52",
     "grade": false,
     "grade_id": "cell-4f680b2b69898e08",
     "locked": true,
     "schema_version": 1,
     "solution": false
    }
   },
   "source": [
    "1. Formulate a suitability model (markdown, about 100 words)"
   ]
  },
  {
   "cell_type": "markdown",
   "metadata": {
    "deletable": false,
    "nbgrader": {
     "checksum": "1e00fae788334015d4b959fd21c8b6fb",
     "grade": true,
     "grade_id": "cell-3615898eefcdb5c2",
     "locked": false,
     "points": 5,
     "schema_version": 1,
     "solution": true
    }
   },
   "source": [
    "YOUR ANSWER HERE\n",
    "\n",
    "The suitability model which we are making is relating to water in Mississippi Lafayette to have better understanding of where farming should be done. We are checking the rainfall levels, water table levels and the flood levels to see which area is best suited for farming. Water is an important aspect of farming so it is a good start to narrow down locations based on water availability. If farming is done further away from water getting water to the farms is incredibly costly. We also see which area has the highest frost free days and the highest water availabilty. Thus, the overall aim of this suitability model is to research the water levels, see froast free areas thus we can try to cut down the costs and narrow areas for farmers to chose from. "
   ]
  },
  {
   "cell_type": "code",
   "execution_count": 1,
   "metadata": {},
   "outputs": [
    {
     "name": "stdout",
     "output_type": "stream",
     "text": [
      "Enter password: ········\n"
     ]
    }
   ],
   "source": [
    "# 2. Imports, etc. \n",
    "from arcgis import GIS\n",
    "from IPython.display import display\n",
    "gis = GIS(username='hnavnitl_UCSDOnline')\n",
    "import arcgis.raster\n",
    "from arcgis.raster import *\n",
    "from arcgis.geocoding import geocode"
   ]
  },
  {
   "cell_type": "code",
   "execution_count": 2,
   "metadata": {
    "deletable": false,
    "editable": false,
    "nbgrader": {
     "checksum": "e5d57f33659fd1049e0a31711d657e76",
     "grade": false,
     "grade_id": "cell-2deb10c691a4d1c2",
     "locked": true,
     "schema_version": 1,
     "solution": false
    }
   },
   "outputs": [],
   "source": [
    "# 3. List imagery layers to be used in your model. This cell should contian layer definitions. \n",
    "# Include at least three initial raster sources. "
   ]
  },
  {
   "cell_type": "code",
   "execution_count": 3,
   "metadata": {},
   "outputs": [],
   "source": [
    "#USA MEAN RAINFALL - \n",
    "#This layer displays average annual rainfall in inches for the period of January 1971 through December 2009.\n",
    "rain = ImageryLayer(\"https://landscape3.arcgis.com/arcgis/rest/services/USA_Mean_Rainfall/ImageServer\", gis) \n",
    "\n",
    "#USA SOILS FROAST FREE PERIOD - Annual Frost Free Period is the expected number of days between the last freezing temperature in \n",
    "#spring (January-July) and the first freezing temperature in fall (August-December). The number of days is based on the probability \n",
    "#that the values for the standard normal period will be exceeded in 5 years out of 10. \n",
    "frost = ImageryLayer(\"https://landscape11.arcgis.com/arcgis/rest/services/USA_Soils_Frost_Free_Days/ImageServer\", gis)\n",
    "\n",
    "# USA FLOOD HAZARD AREAS - This layer displays Flood Hazard Areas from the Flood Insurance Rate Map created by the Federal Emergency Management Agency.\n",
    "flood = ImageryLayer(\"https://landscape11.arcgis.com/arcgis/rest/services/USA_Flood_Hazard_Areas/ImageServer\", gis)\n",
    "\n",
    "# USA SOILS WATER TABLE DEPTH - This layer displays the shallowest depth to water in the soil at any time of the year in centimeters.\n",
    "water_table = ImageryLayer(\"https://landscape11.arcgis.com/arcgis/rest/services/USA_Soils_Water_Table_Depth/ImageServer\", gis)\n",
    "\n",
    "# Elevation added for the sake of the coordinate system\n",
    "elevation = ImageryLayer('https://elevation.arcgis.com/arcgis/rest/services/WorldElevation/Terrain/ImageServer',gis)"
   ]
  },
  {
   "cell_type": "code",
   "execution_count": 4,
   "metadata": {
    "deletable": false,
    "nbgrader": {
     "checksum": "c5d6f4085d8a5d90024220815552491e",
     "grade": true,
     "grade_id": "cell-0dbfd5942a917632",
     "locked": false,
     "points": 5,
     "schema_version": 1,
     "solution": true
    }
   },
   "outputs": [
    {
     "ename": "NotImplementedError",
     "evalue": "",
     "output_type": "error",
     "traceback": [
      "\u001b[0;31m---------------------------------------------------------------------------\u001b[0m",
      "\u001b[0;31mNotImplementedError\u001b[0m                       Traceback (most recent call last)",
      "\u001b[0;32m<ipython-input-4-15b94d1fa268>\u001b[0m in \u001b[0;36m<module>\u001b[0;34m()\u001b[0m\n\u001b[1;32m      1\u001b[0m \u001b[0;31m# YOUR CODE HERE\u001b[0m\u001b[0;34m\u001b[0m\u001b[0;34m\u001b[0m\u001b[0;34m\u001b[0m\u001b[0m\n\u001b[0;32m----> 2\u001b[0;31m \u001b[0;32mraise\u001b[0m \u001b[0mNotImplementedError\u001b[0m\u001b[0;34m(\u001b[0m\u001b[0;34m)\u001b[0m\u001b[0;34m\u001b[0m\u001b[0;34m\u001b[0m\u001b[0m\n\u001b[0m",
      "\u001b[0;31mNotImplementedError\u001b[0m: "
     ]
    }
   ],
   "source": [
    "# YOUR CODE HERE\n",
    "raise NotImplementedError()"
   ]
  },
  {
   "cell_type": "code",
   "execution_count": 5,
   "metadata": {
    "deletable": false,
    "editable": false,
    "nbgrader": {
     "checksum": "0e9af4998b90314f2ac175dca4c745ff",
     "grade": false,
     "grade_id": "cell-6d61831ab53a29b4",
     "locked": true,
     "schema_version": 1,
     "solution": false
    }
   },
   "outputs": [],
   "source": [
    "# 4. Derive the area of interest (AOI) and its geometry and extent. \n",
    "# The smaller the area the better (so that you don't run into raster size limitations)"
   ]
  },
  {
   "cell_type": "code",
   "execution_count": 6,
   "metadata": {},
   "outputs": [],
   "source": [
    "study_area_gcd = geocode(address='Lafayette County', out_sr=rain.extent['spatialReference'])\n",
    "study_area_extent = study_area_gcd[0]['extent']\n",
    "counties_item = gis.content.search('USA Counties generalized', 'Feature Layer', outside_org=True)[0]\n",
    "counties_lyr = counties_item.layers[0]\n",
    "study_area_query = counties_lyr.query(\"FIPS='28071'\", return_geometry=True)\n",
    "study_area_geom= study_area_query.features[0].geometry\n",
    "study_area_geom['spatialReference'] = study_area_query.spatial_reference\n",
    "rain.extent = study_area_extent\n",
    "frost.extent = study_area_extent\n",
    "water_table.extent = study_area_extent\n",
    "flood.extent = study_area_extent"
   ]
  },
  {
   "cell_type": "code",
   "execution_count": 7,
   "metadata": {
    "deletable": false,
    "nbgrader": {
     "checksum": "47a95fe75d7a5a10350b60557e50afd2",
     "grade": true,
     "grade_id": "cell-6a9886a7c4908c79",
     "locked": false,
     "points": 5,
     "schema_version": 1,
     "solution": true
    }
   },
   "outputs": [
    {
     "ename": "NotImplementedError",
     "evalue": "",
     "output_type": "error",
     "traceback": [
      "\u001b[0;31m---------------------------------------------------------------------------\u001b[0m",
      "\u001b[0;31mNotImplementedError\u001b[0m                       Traceback (most recent call last)",
      "\u001b[0;32m<ipython-input-7-15b94d1fa268>\u001b[0m in \u001b[0;36m<module>\u001b[0;34m()\u001b[0m\n\u001b[1;32m      1\u001b[0m \u001b[0;31m# YOUR CODE HERE\u001b[0m\u001b[0;34m\u001b[0m\u001b[0;34m\u001b[0m\u001b[0;34m\u001b[0m\u001b[0m\n\u001b[0;32m----> 2\u001b[0;31m \u001b[0;32mraise\u001b[0m \u001b[0mNotImplementedError\u001b[0m\u001b[0;34m(\u001b[0m\u001b[0;34m)\u001b[0m\u001b[0;34m\u001b[0m\u001b[0;34m\u001b[0m\u001b[0m\n\u001b[0m",
      "\u001b[0;31mNotImplementedError\u001b[0m: "
     ]
    }
   ],
   "source": [
    "# YOUR CODE HERE\n",
    "raise NotImplementedError()"
   ]
  },
  {
   "cell_type": "markdown",
   "metadata": {
    "deletable": false,
    "editable": false,
    "nbgrader": {
     "checksum": "bad09c5b05d305c9ade4301b7bff1b7e",
     "grade": false,
     "grade_id": "cell-bb7ea8206068d64f",
     "locked": true,
     "schema_version": 1,
     "solution": false
    }
   },
   "source": [
    "5. Name the two map combination techniques you will use to combine the data and describe their pros and cons (markdown) "
   ]
  },
  {
   "cell_type": "markdown",
   "metadata": {
    "deletable": false,
    "nbgrader": {
     "checksum": "e2bb1e614b51c29656ec324931cb6d9f",
     "grade": true,
     "grade_id": "cell-ab323b38c2d406c0",
     "locked": false,
     "points": 5,
     "schema_version": 1,
     "solution": true
    }
   },
   "source": [
    "YOUR ANSWER HERE\n",
    "\n",
    "The 2 map combination techinques we would use are:\n",
    "1. Dominance \n",
    "   Pros:\n",
    "   If one character is the most important and we only see that to \n",
    "   decide our decisions about the map, then dominance would be very \n",
    "   useful. For example, maximum profit.\n",
    "   If we are looking at binary data then this is helpful to give us \n",
    "   what the majority wants. \n",
    "   \n",
    "   Cons:\n",
    "   The Cons are that it only gives importance to one character so\n",
    "   if there is other characters which are influencing they would be ignored.\n",
    "\n",
    "2. Contributory\n",
    "   Pros:\n",
    "   All play a role in decision making so if there are many factors which \n",
    "   help decide the output then contributory is important. \n",
    "   \n",
    "   \n",
    "   \n",
    "   Cons:\n",
    "   We might not know if something is more importance of less importance"
   ]
  },
  {
   "cell_type": "code",
   "execution_count": 13,
   "metadata": {
    "deletable": false,
    "editable": false,
    "nbgrader": {
     "checksum": "4d21d8bea566ec451d2a68c07ec84fd4",
     "grade": false,
     "grade_id": "cell-e380ca0f06dad30f",
     "locked": true,
     "schema_version": 1,
     "solution": false
    }
   },
   "outputs": [],
   "source": [
    "# 6. Prepare your input layers for map combination: \n",
    "# clip to AOI, remap/normalize, add color map, visualize the layers and legends. "
   ]
  },
  {
   "cell_type": "code",
   "execution_count": 18,
   "metadata": {},
   "outputs": [
    {
     "data": {
      "application/vnd.jupyter.widget-view+json": {
       "model_id": "4b11afcae14b43a6bb7f67c3119fb424",
       "version_major": 2,
       "version_minor": 0
      },
      "text/plain": [
       "MapView(layout=Layout(height='400px', width='100%'), legend=True)"
      ]
     },
     "metadata": {},
     "output_type": "display_data"
    },
    {
     "data": {
      "text/html": [
       "<div class=\"map-static-img-preview-42596f83-38b2-493b-b505-abf7b737eb00\"><img src=\"\"></img></div>"
      ],
      "text/plain": [
       "<IPython.core.display.HTML object>"
      ]
     },
     "metadata": {},
     "output_type": "display_data"
    }
   ],
   "source": [
    "#Non-Binary Colormap\n",
    "clrmap =  [[5, 255, 255, 0], [4, 197, 219, 0],  \n",
    "          [3, 139, 181, 0], [2, 86, 148, 0], [1, 38, 115, 0]]\n",
    "rain_area = clip(raster = rain, geometry = study_area_geom)\n",
    "rain_area = remap(raster=rain_area,\n",
    "                  input_ranges=[56, 56.5, 56.5, 57, 57, 57.5, 57.5, 58, 58, 59],\n",
    "                  output_values=[1,2,3,4,5], astype='U8')\n",
    "rain_map = colormap(rain_area, colormap=clrmap)\n",
    "rain_map.extent = study_area_extent\n",
    "\n",
    "water_color =  [[4, 230, 0, 0], [3, 242, 85, 0], [2, 250, 142, 0], [1, 255, 195, 0]]\n",
    "water_area = clip(raster = water_table, geometry = study_area_geom)\n",
    "water_area = remap(raster=water_area,\n",
    "                  input_ranges=[31, 61, 62, 100, 101, 200, 201, 400],\n",
    "                  output_values=[1,2,3,4], astype='U8')\n",
    "water_area_map = colormap(water_area, colormap=water_color)\n",
    "water_area_map.extent = study_area_extent\n",
    "\n",
    "flood_area = clip(raster = flood, geometry = study_area_geom)\n",
    "clrmap2 =  [[1, 230, 0, 0], [0, 38, 115, 0]]\n",
    "flood_area = remap(raster=flood_area,\n",
    "                  input_ranges=[0.0,8.0, 8.0,15.0],\n",
    "                  output_values=[1,0],  astype='U8')\n",
    "flood_area_map = colormap(flood_area, colormap=clrmap2)\n",
    "flood_area_map.extent = study_area_extent\n",
    "\n",
    "frost_area = clip(raster = frost, geometry = study_area_geom)\n",
    "clrmap7 =  [[7, 76, 0, 153], [6, 102, 0, 204], [5, 127, 0, 255], [4, 153, 51, 255 ], [3, 178, 102, 255], [2, 205, 153, 255],  \n",
    "          [1, 229, 204, 255 ]]\n",
    "frost_area = remap(raster=frost_area,\n",
    "                  input_ranges=[0.0,50.0, 51.0,100.0, 101.0,150.0, 151.0,200.0, 201.0,250.0,\n",
    "                                251.0,300.0, 301.0,365.0 ],\n",
    "                  output_values=[1,2,3,4,5,6,7],  astype='U8')\n",
    "frost_area_map = colormap(frost_area, colormap=clrmap7)\n",
    "frost_area_map.extent = study_area_extent\n",
    "\n",
    "map_1 = gis.map('Lafayette County, Mississippi')\n",
    "map_1.add_layer(water_area_map)\n",
    "map_1.add_layer(frost_area_map)\n",
    "map_1.add_layer(flood_area_map)\n",
    "map_1.add_layer(rain_map)\n",
    "\n",
    "map_1.legend = True\n",
    "map_1\n",
    "\n",
    "#Binary Colormap\n",
    "bin_color =  [[1, 230, 0, 0], [0, 38, 115, 0]]\n",
    "rain_area = clip(raster = rain, geometry = study_area_geom)\n",
    "rain_area_bin = remap(raster=rain_area,\n",
    "                  input_ranges=[0.0, 57.0, 57.0, 100.0],\n",
    "                  output_values=[0, 1], astype='U8')\n",
    "rain_map_bin = colormap(rain_area_bin, colormap=bin_color)\n",
    "rain_map.extent = study_area_extent\n",
    "\n",
    "water_area = clip(raster = water_table, geometry = study_area_geom)\n",
    "water_area_bin = remap(raster=water_area,\n",
    "                  input_ranges=[0.0, 100.0,101.0, 400.0],\n",
    "                  output_values=[1,0], astype='U8')\n",
    "water_map_bin = colormap(water_area_bin, colormap=bin_color)\n",
    "water_map_bin.extent = study_area_extent\n",
    "\n",
    "elevation_area = clip(raster = elevation, geometry = study_area_geom)\n",
    "elevation_area = remap(raster=elevation_area,\n",
    "                  input_ranges=[0, 10000000],\n",
    "                  output_values=[1], astype='U8')\n",
    "elevation_map = colormap(elevation_area, colormap=bin_color)\n",
    "elevation_map.extent = study_area_extent\n",
    "\n",
    "flood_area = clip(raster = flood, geometry = study_area_geom)\n",
    "flood_area.extent = study_area_extent\n",
    "colour =  [[0, 230, 0, 0], [1, 38, 115, 0]]\n",
    "flood_area = remap(raster=flood_area,\n",
    "                   input_ranges=[2, 2, 1, 1],\n",
    "                  output_values=[0, 1],  astype='U8')\n",
    "flood_map_bin = colormap(flood_area, colormap= bin_color)\n",
    "\n",
    "frost_area = clip(raster = frost, geometry = study_area_geom)\n",
    "frost_area.extent = study_area_extent\n",
    "frost_colour = [[1, 205, 153, 255],  \n",
    "          [0, 229, 204, 255 ]]\n",
    "frost_area = remap(raster= frost_area,\n",
    "                  input_ranges=[0.0, 182.0, 182.0,365.0],\n",
    "                  output_values=[1, 0],  astype='U8')\n",
    "frost_map_bin = colormap(frost_area, colormap= frost_colour)\n",
    "\n",
    "map_2 = gis.map('Lafayette County, Mississippi')\n",
    "map_2.add_layer(rain_map_bin)\n",
    "map_2.add_layer(frost_map_bin)\n",
    "map_2.add_layer(flood_map_bin)\n",
    "map_2.add_layer(water_map_bin)\n",
    "map_2.legend = True\n",
    "map_2"
   ]
  },
  {
   "cell_type": "code",
   "execution_count": 19,
   "metadata": {
    "deletable": false,
    "nbgrader": {
     "checksum": "1c9f632ab8e0edfbdba1e3b037e0f380",
     "grade": true,
     "grade_id": "cell-448e5b0e9c96e718",
     "locked": false,
     "points": 5,
     "schema_version": 1,
     "solution": true
    }
   },
   "outputs": [
    {
     "ename": "NotImplementedError",
     "evalue": "",
     "output_type": "error",
     "traceback": [
      "\u001b[0;31m---------------------------------------------------------------------------\u001b[0m",
      "\u001b[0;31mNotImplementedError\u001b[0m                       Traceback (most recent call last)",
      "\u001b[0;32m<ipython-input-19-15b94d1fa268>\u001b[0m in \u001b[0;36m<module>\u001b[0;34m()\u001b[0m\n\u001b[1;32m      1\u001b[0m \u001b[0;31m# YOUR CODE HERE\u001b[0m\u001b[0;34m\u001b[0m\u001b[0;34m\u001b[0m\u001b[0;34m\u001b[0m\u001b[0m\n\u001b[0;32m----> 2\u001b[0;31m \u001b[0;32mraise\u001b[0m \u001b[0mNotImplementedError\u001b[0m\u001b[0;34m(\u001b[0m\u001b[0;34m)\u001b[0m\u001b[0;34m\u001b[0m\u001b[0;34m\u001b[0m\u001b[0m\n\u001b[0m",
      "\u001b[0;31mNotImplementedError\u001b[0m: "
     ]
    }
   ],
   "source": [
    "# YOUR CODE HERE\n",
    "raise NotImplementedError()"
   ]
  },
  {
   "cell_type": "code",
   "execution_count": 20,
   "metadata": {
    "deletable": false,
    "editable": false,
    "nbgrader": {
     "checksum": "96e22a0cb632e74edbf87e3b00de2622",
     "grade": false,
     "grade_id": "cell-7edf535fc82d9963",
     "locked": true,
     "schema_version": 1,
     "solution": false
    }
   },
   "outputs": [],
   "source": [
    "# 7a. Generate a composite raster layer for your first map combination technique\n",
    "# name of the technique (refer to lecture PPT):"
   ]
  },
  {
   "cell_type": "code",
   "execution_count": 21,
   "metadata": {},
   "outputs": [
    {
     "data": {
      "application/vnd.jupyter.widget-view+json": {
       "model_id": "1ef41cae97734d1ba0b653836455f81c",
       "version_major": 2,
       "version_minor": 0
      },
      "text/plain": [
       "MapView(layout=Layout(height='400px', width='100%'), legend=True)"
      ]
     },
     "metadata": {},
     "output_type": "display_data"
    },
    {
     "data": {
      "text/html": [
       "<div class=\"map-static-img-preview-e71b06f4-15b7-4b1f-8f38-181a0103568e\"><img src=\"\"></img></div>"
      ],
      "text/plain": [
       "<IPython.core.display.HTML object>"
      ]
     },
     "metadata": {},
     "output_type": "display_data"
    }
   ],
   "source": [
    "# Dominance\n",
    "rc_out1 = raster_calculator(rasters = [elevation_map, frost_map_bin], input_names = [\"a\",\"b\"], expression = \"a * b\", extent_type='FirstOf', cellsize_type='FirstOf', astype='U8')\n",
    "rc_out2 = raster_calculator(rasters = [rc_out1, flood_map_bin], input_names = [\"a\",\"b\"], expression = \"a * b\", extent_type='FirstOf', cellsize_type='FirstOf', astype='U8')\n",
    "rc_out = raster_calculator(rasters = [rc_out2, water_map_bin], input_names = [\"a\",\"b\"], expression = \"a * b\", extent_type='FirstOf', cellsize_type='FirstOf', astype='U8')\n",
    "rc_bc = colormap(rc_out, colormap= bin_color)\n",
    "\n",
    "map_a = gis.map('Lafayette County, Mississippi')\n",
    "map_a.legend=True\n",
    "map_a.add_layer(rc_bc)\n",
    "map_a"
   ]
  },
  {
   "cell_type": "code",
   "execution_count": 22,
   "metadata": {
    "deletable": false,
    "nbgrader": {
     "checksum": "07c9a317ead4270f4b278532a73208f9",
     "grade": true,
     "grade_id": "cell-8987729052b0ede1",
     "locked": false,
     "points": 5,
     "schema_version": 1,
     "solution": true
    }
   },
   "outputs": [
    {
     "ename": "NotImplementedError",
     "evalue": "",
     "output_type": "error",
     "traceback": [
      "\u001b[0;31m---------------------------------------------------------------------------\u001b[0m",
      "\u001b[0;31mNotImplementedError\u001b[0m                       Traceback (most recent call last)",
      "\u001b[0;32m<ipython-input-22-15b94d1fa268>\u001b[0m in \u001b[0;36m<module>\u001b[0;34m()\u001b[0m\n\u001b[1;32m      1\u001b[0m \u001b[0;31m# YOUR CODE HERE\u001b[0m\u001b[0;34m\u001b[0m\u001b[0;34m\u001b[0m\u001b[0;34m\u001b[0m\u001b[0m\n\u001b[0;32m----> 2\u001b[0;31m \u001b[0;32mraise\u001b[0m \u001b[0mNotImplementedError\u001b[0m\u001b[0;34m(\u001b[0m\u001b[0;34m)\u001b[0m\u001b[0;34m\u001b[0m\u001b[0;34m\u001b[0m\u001b[0m\n\u001b[0m",
      "\u001b[0;31mNotImplementedError\u001b[0m: "
     ]
    }
   ],
   "source": [
    "# YOUR CODE HERE\n",
    "raise NotImplementedError()"
   ]
  },
  {
   "cell_type": "code",
   "execution_count": 23,
   "metadata": {
    "deletable": false,
    "editable": false,
    "nbgrader": {
     "checksum": "38b54d7329f3f6951224212c296e215c",
     "grade": false,
     "grade_id": "cell-30672e3542f7be9c",
     "locked": true,
     "schema_version": 1,
     "solution": false
    }
   },
   "outputs": [],
   "source": [
    "# 7b. Generate a composite raster layer for your second map combination technique\n",
    "# name of the technique (refer to lecture PPT):"
   ]
  },
  {
   "cell_type": "code",
   "execution_count": 24,
   "metadata": {
    "scrolled": true
   },
   "outputs": [
    {
     "data": {
      "application/vnd.jupyter.widget-view+json": {
       "model_id": "a58fb600964e419abc60d3ca1cb23187",
       "version_major": 2,
       "version_minor": 0
      },
      "text/plain": [
       "MapView(layout=Layout(height='400px', width='100%'), legend=True)"
      ]
     },
     "metadata": {},
     "output_type": "display_data"
    },
    {
     "data": {
      "text/html": [
       "<div class=\"map-static-img-preview-cbd50af8-88a5-4fbd-852e-c96f277b009a\"><img src=\"\"></img></div>"
      ],
      "text/plain": [
       "<IPython.core.display.HTML object>"
      ]
     },
     "metadata": {},
     "output_type": "display_data"
    }
   ],
   "source": [
    "# Contributatory\n",
    "r2 = (elevation_map * 0) + (water_map_bin * 0.8)\n",
    "r3 = r2 + (frost_map_bin * .1)\n",
    "r4 = r3  + (flood_map_bin * .1)\n",
    "r4_m = colormap(r4, colormap = bin_color)\n",
    "\n",
    "map_b = gis.map('Lafayette County, Mississippi')\n",
    "map_b.legend = True\n",
    "map_b.add_layer(r4_m)\n",
    "map_b"
   ]
  },
  {
   "cell_type": "code",
   "execution_count": 25,
   "metadata": {
    "deletable": false,
    "nbgrader": {
     "checksum": "a0cabf9c59274a87b1251f2e39034f10",
     "grade": true,
     "grade_id": "cell-d9b4d2772747236a",
     "locked": false,
     "points": 5,
     "schema_version": 1,
     "solution": true
    }
   },
   "outputs": [
    {
     "ename": "NotImplementedError",
     "evalue": "",
     "output_type": "error",
     "traceback": [
      "\u001b[0;31m---------------------------------------------------------------------------\u001b[0m",
      "\u001b[0;31mNotImplementedError\u001b[0m                       Traceback (most recent call last)",
      "\u001b[0;32m<ipython-input-25-15b94d1fa268>\u001b[0m in \u001b[0;36m<module>\u001b[0;34m()\u001b[0m\n\u001b[1;32m      1\u001b[0m \u001b[0;31m# YOUR CODE HERE\u001b[0m\u001b[0;34m\u001b[0m\u001b[0;34m\u001b[0m\u001b[0;34m\u001b[0m\u001b[0m\n\u001b[0;32m----> 2\u001b[0;31m \u001b[0;32mraise\u001b[0m \u001b[0mNotImplementedError\u001b[0m\u001b[0;34m(\u001b[0m\u001b[0;34m)\u001b[0m\u001b[0;34m\u001b[0m\u001b[0;34m\u001b[0m\u001b[0m\n\u001b[0m",
      "\u001b[0;31mNotImplementedError\u001b[0m: "
     ]
    }
   ],
   "source": [
    "# YOUR CODE HERE\n",
    "raise NotImplementedError()"
   ]
  },
  {
   "cell_type": "code",
   "execution_count": 26,
   "metadata": {
    "deletable": false,
    "editable": false,
    "nbgrader": {
     "checksum": "09f02b8fa341438e759289f90c3a73e5",
     "grade": false,
     "grade_id": "cell-c15febfa1ae91b05",
     "locked": true,
     "schema_version": 1,
     "solution": false
    }
   },
   "outputs": [],
   "source": [
    "# 8. Compare the results, and describe how different map combination techniques resulted in different outputs (or not.)\n",
    "# "
   ]
  },
  {
   "cell_type": "markdown",
   "metadata": {},
   "source": [
    "The suitability model which we are making is relating to access to water in Lafayette County, Mississippi to have better understanding of where farming should ideally located. We want to analyze the levels of rainfall, water table depth levels and areas of high flood risk to see which area is best suited for farming. Water is a very important aspect of farming so it is a good start to narrow down locations based on water availability. If farming is done further away from sources of water, getting water to the farms is incredibly costly and can be wasteful of resources. We also see which area has the greatest amount of frost free days and the highest water availbilty. Thus, the overall aim of this suitability model is to research the water levels, find frost free areas in order to try to cut down the costs and narrow down areas for farms to chose from."
   ]
  },
  {
   "cell_type": "code",
   "execution_count": 30,
   "metadata": {
    "deletable": false,
    "nbgrader": {
     "checksum": "ba766e99c73570a46c808b84dfe740b5",
     "grade": true,
     "grade_id": "cell-1465469141c58ea2",
     "locked": false,
     "points": 5,
     "schema_version": 1,
     "solution": true
    }
   },
   "outputs": [
    {
     "ename": "NotImplementedError",
     "evalue": "",
     "output_type": "error",
     "traceback": [
      "\u001b[0;31m---------------------------------------------------------------------------\u001b[0m",
      "\u001b[0;31mNotImplementedError\u001b[0m                       Traceback (most recent call last)",
      "\u001b[0;32m<ipython-input-30-15b94d1fa268>\u001b[0m in \u001b[0;36m<module>\u001b[0;34m()\u001b[0m\n\u001b[1;32m      1\u001b[0m \u001b[0;31m# YOUR CODE HERE\u001b[0m\u001b[0;34m\u001b[0m\u001b[0;34m\u001b[0m\u001b[0;34m\u001b[0m\u001b[0m\n\u001b[0;32m----> 2\u001b[0;31m \u001b[0;32mraise\u001b[0m \u001b[0mNotImplementedError\u001b[0m\u001b[0;34m(\u001b[0m\u001b[0;34m)\u001b[0m\u001b[0;34m\u001b[0m\u001b[0;34m\u001b[0m\u001b[0m\n\u001b[0m",
      "\u001b[0;31mNotImplementedError\u001b[0m: "
     ]
    }
   ],
   "source": [
    "# YOUR CODE HERE\n",
    "raise NotImplementedError()"
   ]
  },
  {
   "cell_type": "markdown",
   "metadata": {},
   "source": [
    "## Extra Credit Issue Report\n",
    "\n",
    "One issue we ran into was that when trying to combine the rainfall raster and any other raster using the raster calculator function, the output would be a question mark when it should have shown a map. Another potential issue was that  when trying to add two rasters, there would be simply be no output as there was shown in the lecture. However, if the combined raster was added to a map, then it would properly display."
   ]
  },
  {
   "cell_type": "code",
   "execution_count": 31,
   "metadata": {},
   "outputs": [
    {
     "data": {
      "image/jpeg": "{\"error\":{\"code\":400,\"message\":\"Invalid or missing input parameters.\",\"details\":[\"Authentication token required. (status code 499).\"]}}",
      "text/plain": [
       "<ImageryLayer url:\"https://landscape3.arcgis.com/arcgis/rest/services/USA_Mean_Rainfall/ImageServer\">"
      ]
     },
     "execution_count": 31,
     "metadata": {},
     "output_type": "execute_result"
    }
   ],
   "source": [
    "# Issue 1\n",
    "rc_out1 = raster_calculator(rasters = [rain_map_bin, frost_map_bin], input_names = [\"a\",\"b\"], expression = \"a * b\", extent_type='FirstOf', cellsize_type='FirstOf', astype='U8')\n",
    "rc_bc = colormap(rc_out1, colormap= bin_color)\n",
    "rc_bc"
   ]
  },
  {
   "cell_type": "code",
   "execution_count": 32,
   "metadata": {},
   "outputs": [
    {
     "data": {
      "image/jpeg": "[encoded data removed]",
      "text/plain": [
       "<ImageryLayer url:\"https://elevation.arcgis.com/arcgis/rest/services/WorldElevation/Terrain/ImageServer\">"
      ]
     },
     "execution_count": 32,
     "metadata": {},
     "output_type": "execute_result"
    }
   ],
   "source": [
    "# Issue 2\n",
    "rc_out1 = raster_calculator(rasters = [elevation_map, frost_map_bin], input_names = [\"a\",\"b\"], expression = \"a * b\", extent_type='FirstOf', cellsize_type='FirstOf', astype='U8')\n",
    "rc_out2 = raster_calculator(rasters = [rc_out1, flood_map_bin], input_names = [\"a\",\"b\"], expression = \"a * b\", extent_type='FirstOf', cellsize_type='FirstOf', astype='U8')\n",
    "rc_bc = colormap(rc_out2, colormap= bin_color)\n",
    "rc_bc"
   ]
  },
  {
   "cell_type": "code",
   "execution_count": 33,
   "metadata": {},
   "outputs": [
    {
     "data": {
      "application/vnd.jupyter.widget-view+json": {
       "model_id": "190bc7fe02ac4d04a7d9c4ab04365c70",
       "version_major": 2,
       "version_minor": 0
      },
      "text/plain": [
       "MapView(layout=Layout(height='400px', width='100%'), legend=True)"
      ]
     },
     "metadata": {},
     "output_type": "display_data"
    },
    {
     "data": {
      "text/html": [
       "<div class=\"map-static-img-preview-6e07a6ff-9085-417b-a71b-faf62f0c1faa\"><img src=\"\"></img></div>"
      ],
      "text/plain": [
       "<IPython.core.display.HTML object>"
      ]
     },
     "metadata": {},
     "output_type": "display_data"
    }
   ],
   "source": [
    "rc_out1 = raster_calculator(rasters = [elevation_map, frost_map_bin], input_names = [\"a\",\"b\"], expression = \"a * b\", extent_type='FirstOf', cellsize_type='FirstOf', astype='U8')\n",
    "rc_out2 = raster_calculator(rasters = [rc_out1, flood_map_bin], input_names = [\"a\",\"b\"], expression = \"a * b\", extent_type='FirstOf', cellsize_type='FirstOf', astype='U8')\n",
    "rc_bc = colormap(rc_out2, colormap= bin_color)\n",
    "\n",
    "map_1 = gis.map('Lafayette County, Mississippi')\n",
    "map_1.legend=True\n",
    "map_1.add_layer(rc_bc)\n",
    "map_1"
   ]
  },
  {
   "cell_type": "code",
   "execution_count": 29,
   "metadata": {},
   "outputs": [],
   "source": [
    "# Please let us know how much time you spent on this project, in hours: \n",
    "# (we will only examine distributions and won't look at individual responses)\n",
    "#assignment_timespent = 15 hours \n",
    "#extracredit_timespent = 2 hours "
   ]
  },
  {
   "cell_type": "code",
   "execution_count": null,
   "metadata": {},
   "outputs": [],
   "source": []
  },
  {
   "cell_type": "code",
   "execution_count": null,
   "metadata": {},
   "outputs": [],
   "source": []
  }
 ],
 "metadata": {
  "kernelspec": {
   "display_name": "Python 3",
   "language": "python",
   "name": "python3"
  },
  "language_info": {
   "codemirror_mode": {
    "name": "ipython",
    "version": 3
   },
   "file_extension": ".py",
   "mimetype": "text/x-python",
   "name": "python",
   "nbconvert_exporter": "python",
   "pygments_lexer": "ipython3",
   "version": "3.7.6"
  }
 },
 "nbformat": 4,
 "nbformat_minor": 2
}
