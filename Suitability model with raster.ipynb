{
 "cells": [
  {
   "cell_type": "code",
   "execution_count": null,
   "metadata": {},
   "outputs": [],
   "source": [
    "### Names: \n",
    "Hetsvi Navnitlal\n",
    "Emily Kwan "
   ]
  },
  {
   "cell_type": "markdown",
   "metadata": {},
   "source": [
    "Formulate a suitability model"
   ]
  },
  {
   "cell_type": "markdown",
   "metadata": {},
   "source": [
    "The suitability model which we are making is relating to water in Mississippi Lafayette to have better understanding of where farming should be done. We are checking the rainfall levels, water table levels and the flood levels to see which area is best suited for farming. Water is an important aspect of farming so it is a good start to narrow down locations based on water availability. If farming is done further away from water getting water to the farms is incredibly costly. We also see which area has the highest frost free days and the highest water availabilty. Thus, the overall aim of this suitability model is to research the water levels, see froast free areas thus we can try to cut down the costs and narrow areas for farmers to chose from."
   ]
  },
  {
   "cell_type": "code",
   "execution_count": null,
   "metadata": {},
   "outputs": [],
   "source": [
    "# Imports, etc. \n",
    "from arcgis import GIS\n",
    "from IPython.display import display\n",
    "gis = GIS(username='hnavnitl_UCSDOnline')\n",
    "import arcgis.raster\n",
    "from arcgis.raster import *\n",
    "from arcgis.geocoding import geocode"
   ]
  },
  {
   "cell_type": "markdown",
   "metadata": {},
   "source": [
    "List imagery layers to be used in your model."
   ]
  },
  {
   "cell_type": "code",
   "execution_count": null,
   "metadata": {},
   "outputs": [],
   "source": [
    "#USA MEAN RAINFALL - \n",
    "#This layer displays average annual rainfall in inches for the period of January 1971 through December 2009.\n",
    "rain = ImageryLayer(\"https://landscape3.arcgis.com/arcgis/rest/services/USA_Mean_Rainfall/ImageServer\", gis) \n",
    "\n",
    "#USA SOILS FROAST FREE PERIOD - Annual Frost Free Period is the expected number of days between the last freezing temperature in \n",
    "#spring (January-July) and the first freezing temperature in fall (August-December). The number of days is based on the probability \n",
    "#that the values for the standard normal period will be exceeded in 5 years out of 10. \n",
    "frost = ImageryLayer(\"https://landscape11.arcgis.com/arcgis/rest/services/USA_Soils_Frost_Free_Days/ImageServer\", gis)\n",
    "\n",
    "# USA FLOOD HAZARD AREAS - This layer displays Flood Hazard Areas from the Flood Insurance Rate Map created by the Federal Emergency Management Agency.\n",
    "flood = ImageryLayer(\"https://landscape11.arcgis.com/arcgis/rest/services/USA_Flood_Hazard_Areas/ImageServer\", gis)\n",
    "\n",
    "# USA SOILS WATER TABLE DEPTH - This layer displays the shallowest depth to water in the soil at any time of the year in centimeters.\n",
    "water_table = ImageryLayer(\"https://landscape11.arcgis.com/arcgis/rest/services/USA_Soils_Water_Table_Depth/ImageServer\", gis)\n",
    "\n",
    "# Elevation added for the sake of the coordinate system\n",
    "elevation = ImageryLayer('https://elevation.arcgis.com/arcgis/rest/services/WorldElevation/Terrain/ImageServer',gis)"
   ]
  },
  {
   "cell_type": "markdown",
   "metadata": {},
   "source": [
    "Derive the area of interest (AOI) and its geometry and extent."
   ]
  },
  {
   "cell_type": "code",
   "execution_count": null,
   "metadata": {},
   "outputs": [],
   "source": [
    "study_area_gcd = geocode(address='Lafayette County', out_sr=rain.extent['spatialReference'])\n",
    "study_area_extent = study_area_gcd[0]['extent']\n",
    "counties_item = gis.content.search('USA Counties generalized', 'Feature Layer', outside_org=True)[0]\n",
    "counties_lyr = counties_item.layers[0]\n",
    "study_area_query = counties_lyr.query(\"FIPS='28071'\", return_geometry=True)\n",
    "study_area_geom= study_area_query.features[0].geometry\n",
    "study_area_geom['spatialReference'] = study_area_query.spatial_reference\n",
    "rain.extent = study_area_extent\n",
    "frost.extent = study_area_extent\n",
    "water_table.extent = study_area_extent\n",
    "flood.extent = study_area_extent"
   ]
  },
  {
   "cell_type": "markdown",
   "metadata": {},
   "source": [
    "The 2 map combination techinques we would use are:\n",
    "1. Dominance \n",
    "   Pros:\n",
    "   If one character is the most important and we only see that to \n",
    "   decide our decisions about the map, then dominance would be very \n",
    "   useful. For example, maximum profit.\n",
    "   If we are looking at binary data then this is helpful to give us \n",
    "   what the majority wants. \n",
    "   \n",
    "   Cons:\n",
    "   The Cons are that it only gives importance to one character so\n",
    "   if there is other characters which are influencing they would be ignored.\n",
    "\n",
    "2. Contributory\n",
    "   Pros:\n",
    "   All play a role in decision making so if there are many factors which \n",
    "   help decide the output then contributory is important. \n",
    "   \n",
    "   \n",
    "   \n",
    "   Cons:\n",
    "   We might not know if something is more importance of less importance"
   ]
  },
  {
   "cell_type": "markdown",
   "metadata": {},
   "source": [
    "Prepare your input layers for map combination: \n",
    "clip to AOI, remap/normalize, add color map, visualize the layers and legends. "
   ]
  },
  {
   "cell_type": "code",
   "execution_count": null,
   "metadata": {},
   "outputs": [],
   "source": [
    "#Non-Binary Colormap\n",
    "clrmap =  [[5, 255, 255, 0], [4, 197, 219, 0],  \n",
    "          [3, 139, 181, 0], [2, 86, 148, 0], [1, 38, 115, 0]]\n",
    "rain_area = clip(raster = rain, geometry = study_area_geom)\n",
    "rain_area = remap(raster=rain_area,\n",
    "                  input_ranges=[56, 56.5, 56.5, 57, 57, 57.5, 57.5, 58, 58, 59],\n",
    "                  output_values=[1,2,3,4,5], astype='U8')\n",
    "rain_map = colormap(rain_area, colormap=clrmap)\n",
    "rain_map.extent = study_area_extent\n",
    "\n",
    "water_color =  [[4, 230, 0, 0], [3, 242, 85, 0], [2, 250, 142, 0], [1, 255, 195, 0]]\n",
    "water_area = clip(raster = water_table, geometry = study_area_geom)\n",
    "water_area = remap(raster=water_area,\n",
    "                  input_ranges=[31, 61, 62, 100, 101, 200, 201, 400],\n",
    "                  output_values=[1,2,3,4], astype='U8')\n",
    "water_area_map = colormap(water_area, colormap=water_color)\n",
    "water_area_map.extent = study_area_extent\n",
    "\n",
    "flood_area = clip(raster = flood, geometry = study_area_geom)\n",
    "clrmap2 =  [[1, 230, 0, 0], [0, 38, 115, 0]]\n",
    "flood_area = remap(raster=flood_area,\n",
    "                  input_ranges=[0.0,8.0, 8.0,15.0],\n",
    "                  output_values=[1,0],  astype='U8')\n",
    "flood_area_map = colormap(flood_area, colormap=clrmap2)\n",
    "flood_area_map.extent = study_area_extent\n",
    "\n",
    "frost_area = clip(raster = frost, geometry = study_area_geom)\n",
    "clrmap7 =  [[7, 76, 0, 153], [6, 102, 0, 204], [5, 127, 0, 255], [4, 153, 51, 255 ], [3, 178, 102, 255], [2, 205, 153, 255],  \n",
    "          [1, 229, 204, 255 ]]\n",
    "frost_area = remap(raster=frost_area,\n",
    "                  input_ranges=[0.0,50.0, 51.0,100.0, 101.0,150.0, 151.0,200.0, 201.0,250.0,\n",
    "                                251.0,300.0, 301.0,365.0 ],\n",
    "                  output_values=[1,2,3,4,5,6,7],  astype='U8')\n",
    "frost_area_map = colormap(frost_area, colormap=clrmap7)\n",
    "frost_area_map.extent = study_area_extent\n",
    "\n",
    "map_1 = gis.map('Lafayette County, Mississippi')\n",
    "map_1.add_layer(water_area_map)\n",
    "map_1.add_layer(frost_area_map)\n",
    "map_1.add_layer(flood_area_map)\n",
    "map_1.add_layer(rain_map)\n",
    "\n",
    "map_1.legend = True\n",
    "map_1\n",
    "\n",
    "#Binary Colormap\n",
    "bin_color =  [[1, 230, 0, 0], [0, 38, 115, 0]]\n",
    "rain_area = clip(raster = rain, geometry = study_area_geom)\n",
    "rain_area_bin = remap(raster=rain_area,\n",
    "                  input_ranges=[0.0, 57.0, 57.0, 100.0],\n",
    "                  output_values=[0, 1], astype='U8')\n",
    "rain_map_bin = colormap(rain_area_bin, colormap=bin_color)\n",
    "rain_map.extent = study_area_extent\n",
    "\n",
    "water_area = clip(raster = water_table, geometry = study_area_geom)\n",
    "water_area_bin = remap(raster=water_area,\n",
    "                  input_ranges=[0.0, 100.0,101.0, 400.0],\n",
    "                  output_values=[1,0], astype='U8')\n",
    "water_map_bin = colormap(water_area_bin, colormap=bin_color)\n",
    "water_map_bin.extent = study_area_extent\n",
    "\n",
    "elevation_area = clip(raster = elevation, geometry = study_area_geom)\n",
    "elevation_area = remap(raster=elevation_area,\n",
    "                  input_ranges=[0, 10000000],\n",
    "                  output_values=[1], astype='U8')\n",
    "elevation_map = colormap(elevation_area, colormap=bin_color)\n",
    "elevation_map.extent = study_area_extent\n",
    "\n",
    "flood_area = clip(raster = flood, geometry = study_area_geom)\n",
    "flood_area.extent = study_area_extent\n",
    "colour =  [[0, 230, 0, 0], [1, 38, 115, 0]]\n",
    "flood_area = remap(raster=flood_area,\n",
    "                   input_ranges=[2, 2, 1, 1],\n",
    "                  output_values=[0, 1],  astype='U8')\n",
    "flood_map_bin = colormap(flood_area, colormap= bin_color)\n",
    "\n",
    "frost_area = clip(raster = frost, geometry = study_area_geom)\n",
    "frost_area.extent = study_area_extent\n",
    "frost_colour = [[1, 205, 153, 255],  \n",
    "          [0, 229, 204, 255 ]]\n",
    "frost_area = remap(raster= frost_area,\n",
    "                  input_ranges=[0.0, 182.0, 182.0,365.0],\n",
    "                  output_values=[1, 0],  astype='U8')\n",
    "frost_map_bin = colormap(frost_area, colormap= frost_colour)\n",
    "\n",
    "map_2 = gis.map('Lafayette County, Mississippi')\n",
    "map_2.add_layer(rain_map_bin)\n",
    "map_2.add_layer(frost_map_bin)\n",
    "map_2.add_layer(flood_map_bin)\n",
    "map_2.add_layer(water_map_bin)\n",
    "map_2.legend = True\n",
    "map_2"
   ]
  },
  {
   "cell_type": "markdown",
   "metadata": {},
   "source": [
    "Generate a composite raster layer for your first map combination technique\n",
    "#name of the technique"
   ]
  },
  {
   "cell_type": "code",
   "execution_count": null,
   "metadata": {},
   "outputs": [],
   "source": [
    "# Dominance\n",
    "rc_out1 = raster_calculator(rasters = [elevation_map, frost_map_bin], input_names = [\"a\",\"b\"], expression = \"a * b\", extent_type='FirstOf', cellsize_type='FirstOf', astype='U8')\n",
    "rc_out2 = raster_calculator(rasters = [rc_out1, flood_map_bin], input_names = [\"a\",\"b\"], expression = \"a * b\", extent_type='FirstOf', cellsize_type='FirstOf', astype='U8')\n",
    "rc_out = raster_calculator(rasters = [rc_out2, water_map_bin], input_names = [\"a\",\"b\"], expression = \"a * b\", extent_type='FirstOf', cellsize_type='FirstOf', astype='U8')\n",
    "rc_bc = colormap(rc_out, colormap= bin_color)\n",
    "\n",
    "map_a = gis.map('Lafayette County, Mississippi')\n",
    "map_a.legend=True\n",
    "map_a.add_layer(rc_bc)\n",
    "map_a"
   ]
  },
  {
   "cell_type": "markdown",
   "metadata": {},
   "source": [
    "Generate a composite raster layer for your second map combination technique\n",
    "#name of the technique "
   ]
  },
  {
   "cell_type": "code",
   "execution_count": null,
   "metadata": {},
   "outputs": [],
   "source": [
    "# Contributatory\n",
    "r2 = (elevation_map * 0) + (water_map_bin * 0.8)\n",
    "r3 = r2 + (frost_map_bin * .1)\n",
    "r4 = r3  + (flood_map_bin * .1)\n",
    "r4_m = colormap(r4, colormap = bin_color)\n",
    "\n",
    "map_b = gis.map('Lafayette County, Mississippi')\n",
    "map_b.legend = True\n",
    "map_b.add_layer(r4_m)\n",
    "map_b"
   ]
  },
  {
   "cell_type": "markdown",
   "metadata": {},
   "source": [
    "results"
   ]
  },
  {
   "cell_type": "markdown",
   "metadata": {},
   "source": [
    "The suitability model which we are making is relating to access to water in Lafayette County, Mississippi to have better understanding of where farming should ideally located. We want to analyze the levels of rainfall, water table depth levels and areas of high flood risk to see which area is best suited for farming. Water is a very important aspect of farming so it is a good start to narrow down locations based on water availability. If farming is done further away from sources of water, getting water to the farms is incredibly costly and can be wasteful of resources. We also see which area has the greatest amount of frost free days and the highest water availbilty. Thus, the overall aim of this suitability model is to research the water levels, find frost free areas in order to try to cut down the costs and narrow down areas for farms to chose from."
   ]
  },
  {
   "cell_type": "markdown",
   "metadata": {},
   "source": [
    "## Issue Report\n",
    "\n",
    "One issue we ran into was that when trying to combine the rainfall raster and any other raster using the raster calculator function, the output would be a question mark when it should have shown a map. Another potential issue was that  when trying to add two rasters, there would be simply be no output as there was shown in the lecture. However, if the combined raster was added to a map, then it would properly display."
   ]
  },
  {
   "cell_type": "code",
   "execution_count": null,
   "metadata": {},
   "outputs": [],
   "source": [
    "# Issue 1\n",
    "rc_out1 = raster_calculator(rasters = [rain_map_bin, frost_map_bin], input_names = [\"a\",\"b\"], expression = \"a * b\", extent_type='FirstOf', cellsize_type='FirstOf', astype='U8')\n",
    "rc_bc = colormap(rc_out1, colormap= bin_color)\n",
    "rc_bc"
   ]
  },
  {
   "cell_type": "code",
   "execution_count": null,
   "metadata": {},
   "outputs": [],
   "source": [
    "# Issue 2\n",
    "rc_out1 = raster_calculator(rasters = [elevation_map, frost_map_bin], input_names = [\"a\",\"b\"], expression = \"a * b\", extent_type='FirstOf', cellsize_type='FirstOf', astype='U8')\n",
    "rc_out2 = raster_calculator(rasters = [rc_out1, flood_map_bin], input_names = [\"a\",\"b\"], expression = \"a * b\", extent_type='FirstOf', cellsize_type='FirstOf', astype='U8')\n",
    "rc_bc = colormap(rc_out2, colormap= bin_color)\n",
    "rc_bc"
   ]
  },
  {
   "cell_type": "code",
   "execution_count": null,
   "metadata": {},
   "outputs": [],
   "source": [
    "rc_out1 = raster_calculator(rasters = [elevation_map, frost_map_bin], input_names = [\"a\",\"b\"], expression = \"a * b\", extent_type='FirstOf', cellsize_type='FirstOf', astype='U8')\n",
    "rc_out2 = raster_calculator(rasters = [rc_out1, flood_map_bin], input_names = [\"a\",\"b\"], expression = \"a * b\", extent_type='FirstOf', cellsize_type='FirstOf', astype='U8')\n",
    "rc_bc = colormap(rc_out2, colormap= bin_color)\n",
    "\n",
    "map_1 = gis.map('Lafayette County, Mississippi')\n",
    "map_1.legend=True\n",
    "map_1.add_layer(rc_bc)\n",
    "map_1"
   ]
  },
  {
   "cell_type": "code",
   "execution_count": null,
   "metadata": {},
   "outputs": [],
   "source": []
  },
  {
   "cell_type": "code",
   "execution_count": null,
   "metadata": {},
   "outputs": [],
   "source": []
  }
 ],
 "metadata": {
  "kernelspec": {
   "display_name": "Python 3",
   "language": "python",
   "name": "python3"
  },
  "language_info": {
   "codemirror_mode": {
    "name": "ipython",
    "version": 3
   },
   "file_extension": ".py",
   "mimetype": "text/x-python",
   "name": "python",
   "nbconvert_exporter": "python",
   "pygments_lexer": "ipython3",
   "version": "3.7.6"
  }
 },
 "nbformat": 4,
 "nbformat_minor": 4
}
